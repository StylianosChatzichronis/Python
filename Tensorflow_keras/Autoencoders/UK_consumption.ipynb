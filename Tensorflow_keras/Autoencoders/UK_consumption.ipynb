{
  "nbformat": 4,
  "nbformat_minor": 0,
  "metadata": {
    "colab": {
      "name": "UK_consumption.ipynb",
      "provenance": []
    },
    "kernelspec": {
      "name": "python3",
      "display_name": "Python 3"
    },
    "language_info": {
      "name": "python"
    }
  },
  "cells": [
    {
      "cell_type": "code",
      "metadata": {
        "id": "GfrPBOtGpIXL"
      },
      "source": [
        "import pandas as pd\n",
        "import seaborn as sns\n",
        "import matplotlib.pyplot as plt"
      ],
      "execution_count": 1,
      "outputs": []
    },
    {
      "cell_type": "code",
      "metadata": {
        "colab": {
          "base_uri": "https://localhost:8080/",
          "height": 206
        },
        "id": "8zBd_XLmpMkx",
        "outputId": "f9c58cf9-9429-4cdd-f5b7-6a22b653ab3b"
      },
      "source": [
        "df = pd.read_csv('UK_foods.csv',index_col='Unnamed: 0')\n",
        "df.head()"
      ],
      "execution_count": 2,
      "outputs": [
        {
          "output_type": "execute_result",
          "data": {
            "text/html": [
              "<div>\n",
              "<style scoped>\n",
              "    .dataframe tbody tr th:only-of-type {\n",
              "        vertical-align: middle;\n",
              "    }\n",
              "\n",
              "    .dataframe tbody tr th {\n",
              "        vertical-align: top;\n",
              "    }\n",
              "\n",
              "    .dataframe thead th {\n",
              "        text-align: right;\n",
              "    }\n",
              "</style>\n",
              "<table border=\"1\" class=\"dataframe\">\n",
              "  <thead>\n",
              "    <tr style=\"text-align: right;\">\n",
              "      <th></th>\n",
              "      <th>England</th>\n",
              "      <th>Wales</th>\n",
              "      <th>Scotland</th>\n",
              "      <th>N.Ireland</th>\n",
              "    </tr>\n",
              "  </thead>\n",
              "  <tbody>\n",
              "    <tr>\n",
              "      <th>Cheese</th>\n",
              "      <td>105</td>\n",
              "      <td>103</td>\n",
              "      <td>103</td>\n",
              "      <td>66</td>\n",
              "    </tr>\n",
              "    <tr>\n",
              "      <th>Carcass_meat</th>\n",
              "      <td>245</td>\n",
              "      <td>227</td>\n",
              "      <td>242</td>\n",
              "      <td>267</td>\n",
              "    </tr>\n",
              "    <tr>\n",
              "      <th>Other_meat</th>\n",
              "      <td>685</td>\n",
              "      <td>803</td>\n",
              "      <td>750</td>\n",
              "      <td>586</td>\n",
              "    </tr>\n",
              "    <tr>\n",
              "      <th>Fish</th>\n",
              "      <td>147</td>\n",
              "      <td>160</td>\n",
              "      <td>122</td>\n",
              "      <td>93</td>\n",
              "    </tr>\n",
              "    <tr>\n",
              "      <th>Fats_and_oils</th>\n",
              "      <td>193</td>\n",
              "      <td>235</td>\n",
              "      <td>184</td>\n",
              "      <td>209</td>\n",
              "    </tr>\n",
              "  </tbody>\n",
              "</table>\n",
              "</div>"
            ],
            "text/plain": [
              "                England  Wales  Scotland  N.Ireland\n",
              "Cheese              105    103       103         66\n",
              "Carcass_meat        245    227       242        267\n",
              "Other_meat          685    803       750        586\n",
              "Fish                147    160       122         93\n",
              "Fats_and_oils       193    235       184        209"
            ]
          },
          "metadata": {
            "tags": []
          },
          "execution_count": 2
        }
      ]
    },
    {
      "cell_type": "code",
      "metadata": {
        "colab": {
          "base_uri": "https://localhost:8080/",
          "height": 283
        },
        "id": "JKR3RCRXpyFn",
        "outputId": "9cd80428-1059-4840-8da8-f30dd0db8fbd"
      },
      "source": [
        "plt.figure(figsize=(5,4))\n",
        "sns.heatmap(df)"
      ],
      "execution_count": 3,
      "outputs": [
        {
          "output_type": "execute_result",
          "data": {
            "text/plain": [
              "<matplotlib.axes._subplots.AxesSubplot at 0x7fc174e9a7d0>"
            ]
          },
          "metadata": {
            "tags": []
          },
          "execution_count": 3
        },
        {
          "output_type": "display_data",
          "data": {
            "image/png": "[encoded data removed]",
            "text/plain": [
              "<Figure size 360x288 with 2 Axes>"
            ]
          },
          "metadata": {
            "tags": [],
            "needs_background": "light"
          }
        }
      ]
    },
    {
      "cell_type": "code",
      "metadata": {
        "id": "bcZpXQ4LqF4u"
      },
      "source": [
        "from tensorflow.keras.models import Sequential\n",
        "from tensorflow.keras.layers import Dense\n",
        "from tensorflow.keras.optimizers import SGD"
      ],
      "execution_count": 4,
      "outputs": []
    },
    {
      "cell_type": "code",
      "metadata": {
        "id": "iap4yBL2qT5O"
      },
      "source": [
        "encoder = Sequential()\n",
        "encoder.add(Dense(units=8,activation='relu',input_shape=[17]))\n",
        "encoder.add(Dense(units=4,activation='relu'))\n",
        "encoder.add(Dense(units=2,activation='relu'))"
      ],
      "execution_count": 5,
      "outputs": []
    },
    {
      "cell_type": "code",
      "metadata": {
        "id": "lQwxIvH8qYle"
      },
      "source": [
        "decoder = Sequential()\n",
        "decoder.add(Dense(units=4,activation='relu',input_shape=[2]))\n",
        "decoder.add(Dense(units=8,activation='relu'))\n",
        "decoder.add(Dense(units=17,activation='relu'))"
      ],
      "execution_count": 6,
      "outputs": []
    },
    {
      "cell_type": "code",
      "metadata": {
        "id": "4tHmLS0Yqaoe"
      },
      "source": [
        "autoencoder = Sequential([encoder,decoder])\n",
        "autoencoder.compile(loss=\"mse\" ,optimizer='adam')"
      ],
      "execution_count": 7,
      "outputs": []
    },
    {
      "cell_type": "code",
      "metadata": {
        "id": "OVHoEA6NsIP_"
      },
      "source": [
        "from sklearn.preprocessing import MinMaxScaler"
      ],
      "execution_count": 8,
      "outputs": []
    },
    {
      "cell_type": "code",
      "metadata": {
        "id": "jfvXHzN3sJ0g"
      },
      "source": [
        "scaler = MinMaxScaler()"
      ],
      "execution_count": 9,
      "outputs": []
    },
    {
      "cell_type": "code",
      "metadata": {
        "colab": {
          "base_uri": "https://localhost:8080/"
        },
        "id": "iXUgDBcMsLQI",
        "outputId": "79c30840-e6f0-416f-9d94-4da32b95099e"
      },
      "source": [
        "scaled_df = scaler.fit_transform(df.transpose().values)\n",
        "scaled_df.shape"
      ],
      "execution_count": 10,
      "outputs": [
        {
          "output_type": "execute_result",
          "data": {
            "text/plain": [
              "(4, 17)"
            ]
          },
          "metadata": {
            "tags": []
          },
          "execution_count": 10
        }
      ]
    },
    {
      "cell_type": "code",
      "metadata": {
        "colab": {
          "base_uri": "https://localhost:8080/"
        },
        "id": "BB8D22zwsNoG",
        "outputId": "a44521c4-37d0-4cf4-c114-9ec3333deda4"
      },
      "source": [
        "autoencoder.fit(scaled_df,scaled_df,epochs=15)"
      ],
      "execution_count": 11,
      "outputs": [
        {
          "output_type": "stream",
          "text": [
            "Epoch 1/15\n",
            "1/1 [==============================] - 1s 505ms/step - loss: 0.4275\n",
            "Epoch 2/15\n",
            "1/1 [==============================] - 0s 7ms/step - loss: 0.4275\n",
            "Epoch 3/15\n",
            "1/1 [==============================] - 0s 6ms/step - loss: 0.4275\n",
            "Epoch 4/15\n",
            "1/1 [==============================] - 0s 8ms/step - loss: 0.4275\n",
            "Epoch 5/15\n",
            "1/1 [==============================] - 0s 6ms/step - loss: 0.4275\n",
            "Epoch 6/15\n",
            "1/1 [==============================] - 0s 7ms/step - loss: 0.4275\n",
            "Epoch 7/15\n",
            "1/1 [==============================] - 0s 7ms/step - loss: 0.4275\n",
            "Epoch 8/15\n",
            "1/1 [==============================] - 0s 7ms/step - loss: 0.4275\n",
            "Epoch 9/15\n",
            "1/1 [==============================] - 0s 14ms/step - loss: 0.4275\n",
            "Epoch 10/15\n",
            "1/1 [==============================] - 0s 6ms/step - loss: 0.4275\n",
            "Epoch 11/15\n",
            "1/1 [==============================] - 0s 5ms/step - loss: 0.4275\n",
            "Epoch 12/15\n",
            "1/1 [==============================] - 0s 5ms/step - loss: 0.4275\n",
            "Epoch 13/15\n",
            "1/1 [==============================] - 0s 4ms/step - loss: 0.4275\n",
            "Epoch 14/15\n",
            "1/1 [==============================] - 0s 8ms/step - loss: 0.4275\n",
            "Epoch 15/15\n",
            "1/1 [==============================] - 0s 5ms/step - loss: 0.4275\n"
          ],
          "name": "stdout"
        },
        {
          "output_type": "execute_result",
          "data": {
            "text/plain": [
              "<tensorflow.python.keras.callbacks.History at 0x7fc1153b7e10>"
            ]
          },
          "metadata": {
            "tags": []
          },
          "execution_count": 11
        }
      ]
    },
    {
      "cell_type": "code",
      "metadata": {
        "colab": {
          "base_uri": "https://localhost:8080/"
        },
        "id": "wxo31tbisQkf",
        "outputId": "82fbc4fa-44f8-441a-cecf-34e39725fb03"
      },
      "source": [
        "encoded_2dim = encoder.predict(scaled_df)\n",
        "encoded_2dim"
      ],
      "execution_count": 12,
      "outputs": [
        {
          "output_type": "execute_result",
          "data": {
            "text/plain": [
              "array([[0., 0.],\n",
              "       [0., 0.],\n",
              "       [0., 0.],\n",
              "       [0., 0.]], dtype=float32)"
            ]
          },
          "metadata": {
            "tags": []
          },
          "execution_count": 12
        }
      ]
    },
    {
      "cell_type": "code",
      "metadata": {
        "colab": {
          "base_uri": "https://localhost:8080/"
        },
        "id": "115NbfGQuu0w",
        "outputId": "c2480255-8dbe-4e9d-9089-e5f07b526c03"
      },
      "source": [
        "df.transpose().index"
      ],
      "execution_count": 13,
      "outputs": [
        {
          "output_type": "execute_result",
          "data": {
            "text/plain": [
              "Index(['England', 'Wales', 'Scotland', 'N.Ireland'], dtype='object')"
            ]
          },
          "metadata": {
            "tags": []
          },
          "execution_count": 13
        }
      ]
    },
    {
      "cell_type": "code",
      "metadata": {
        "id": "EETBbn98uOB2"
      },
      "source": [
        "#join the data(from calculated reduced dimensions) of the countries\n",
        "results = pd.DataFrame(data=encoded_2dim,index=df.transpose().index,\n",
        "                      columns=['C1','C2'])"
      ],
      "execution_count": 14,
      "outputs": []
    },
    {
      "cell_type": "code",
      "metadata": {
        "colab": {
          "base_uri": "https://localhost:8080/",
          "height": 297
        },
        "id": "wJ4gm5W_u6eO",
        "outputId": "7ac40369-8f40-4585-9062-986603ad5154"
      },
      "source": [
        "results = results.reset_index()\n",
        "sns.scatterplot(x='C1',y='C2',data=results,hue='index',alpha=0.6)"
      ],
      "execution_count": 15,
      "outputs": [
        {
          "output_type": "execute_result",
          "data": {
            "text/plain": [
              "<matplotlib.axes._subplots.AxesSubplot at 0x7fc114a1b910>"
            ]
          },
          "metadata": {
            "tags": []
          },
          "execution_count": 15
        },
        {
          "output_type": "display_data",
          "data": {
            "image/png": "[encoded data removed]",
            "text/plain": [
              "<Figure size 432x288 with 1 Axes>"
            ]
          },
          "metadata": {
            "tags": [],
            "needs_background": "light"
          }
        }
      ]
    }
  ]
}