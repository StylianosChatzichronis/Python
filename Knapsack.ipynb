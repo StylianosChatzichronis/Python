{
 "cells": [
  {
   "cell_type": "code",
   "execution_count": 1,
   "id": "d3598d2c",
   "metadata": {},
   "outputs": [],
   "source": [
    "import numpy as np\n",
    "import pandas as pd\n",
    "import math"
   ]
  },
  {
   "cell_type": "code",
   "execution_count": 2,
   "id": "a53453ea",
   "metadata": {},
   "outputs": [],
   "source": [
    "init_range = 1000\n",
    "threshold = 400\n",
    "maximum_weight=100\n",
    "number_of_elements = 6\n",
    "weights = np.random.uniform(10,30,size=(number_of_elements,2))\n",
    "quantities = np.random.randint(10,100,size=(number_of_elements,1))\n"
   ]
  },
  {
   "cell_type": "code",
   "execution_count": 3,
   "id": "ebff6f0b",
   "metadata": {},
   "outputs": [],
   "source": [
    "for i in range(0,weights.shape[0]):\n",
    "    weights[i,0] = weights[i,0]/weights[i,1]"
   ]
  },
  {
   "cell_type": "code",
   "execution_count": 4,
   "id": "d1dbe36f",
   "metadata": {},
   "outputs": [],
   "source": [
    "d = {'normalized_value': weights[:,0], 'weight': weights[:,1]}\n",
    "df = pd.DataFrame(data=d)\n",
    "df['quantity'] = quantities"
   ]
  },
  {
   "cell_type": "code",
   "execution_count": 5,
   "id": "3f5976d3",
   "metadata": {},
   "outputs": [],
   "source": [
    "df=df.sort_values('normalized_value')"
   ]
  },
  {
   "cell_type": "code",
   "execution_count": 6,
   "id": "4f3ac40c",
   "metadata": {},
   "outputs": [
    {
     "data": {
      "text/html": [
       "<div>\n",
       "<style scoped>\n",
       "    .dataframe tbody tr th:only-of-type {\n",
       "        vertical-align: middle;\n",
       "    }\n",
       "\n",
       "    .dataframe tbody tr th {\n",
       "        vertical-align: top;\n",
       "    }\n",
       "\n",
       "    .dataframe thead th {\n",
       "        text-align: right;\n",
       "    }\n",
       "</style>\n",
       "<table border=\"1\" class=\"dataframe\">\n",
       "  <thead>\n",
       "    <tr style=\"text-align: right;\">\n",
       "      <th></th>\n",
       "      <th>normalized_value</th>\n",
       "      <th>weight</th>\n",
       "      <th>quantity</th>\n",
       "    </tr>\n",
       "  </thead>\n",
       "  <tbody>\n",
       "    <tr>\n",
       "      <th>5</th>\n",
       "      <td>0.353022</td>\n",
       "      <td>28.328140</td>\n",
       "      <td>10</td>\n",
       "    </tr>\n",
       "    <tr>\n",
       "      <th>0</th>\n",
       "      <td>0.663537</td>\n",
       "      <td>21.724031</td>\n",
       "      <td>40</td>\n",
       "    </tr>\n",
       "    <tr>\n",
       "      <th>4</th>\n",
       "      <td>0.711630</td>\n",
       "      <td>25.174942</td>\n",
       "      <td>25</td>\n",
       "    </tr>\n",
       "    <tr>\n",
       "      <th>1</th>\n",
       "      <td>0.723160</td>\n",
       "      <td>18.855580</td>\n",
       "      <td>19</td>\n",
       "    </tr>\n",
       "    <tr>\n",
       "      <th>3</th>\n",
       "      <td>0.980013</td>\n",
       "      <td>22.401692</td>\n",
       "      <td>49</td>\n",
       "    </tr>\n",
       "    <tr>\n",
       "      <th>2</th>\n",
       "      <td>1.282815</td>\n",
       "      <td>21.184450</td>\n",
       "      <td>39</td>\n",
       "    </tr>\n",
       "  </tbody>\n",
       "</table>\n",
       "</div>"
      ],
      "text/plain": [
       "   normalized_value     weight  quantity\n",
       "5          0.353022  28.328140        10\n",
       "0          0.663537  21.724031        40\n",
       "4          0.711630  25.174942        25\n",
       "1          0.723160  18.855580        19\n",
       "3          0.980013  22.401692        49\n",
       "2          1.282815  21.184450        39"
      ]
     },
     "execution_count": 6,
     "metadata": {},
     "output_type": "execute_result"
    }
   ],
   "source": [
    "df"
   ]
  },
  {
   "cell_type": "code",
   "execution_count": 7,
   "id": "6516c833",
   "metadata": {},
   "outputs": [],
   "source": [
    "def solution(initial_df,df,nobj,threshold,maximum_weight,score):\n",
    "    flag = False\n",
    "    i=0\n",
    "    curr_quantity = np.zeros(nobj)\n",
    "    \n",
    "    while(flag == False and i < nobj):\n",
    "        \n",
    "      \n",
    "        curr_quantity[i]       =    maximum_weight // df[\"weight\"].iloc[i]\n",
    "        curr_weight        =    curr_quantity[i]  * df[\"weight\"].iloc[i]\n",
    "        score              =    curr_quantity[i]  * df[\"normalized_value\"].iloc[i]* df[\"weight\"].iloc[i]\n",
    "        if(score>=threshold):\n",
    "            flag=True\n",
    "            print(\"Activated\")\n",
    "            return score\n",
    "        elif(i<nobj-1): \n",
    "            score = run_sub_nodes(i+1,initial_df,df,curr_quantity,nobj,threshold,maximum_weight,score,nobj-1)\n",
    "        else:\n",
    "            flag = True\n",
    "        score=0\n",
    "        i = i + 1\n",
    "    print(\"not activated\")\n",
    "    return score"
   ]
  },
  {
   "cell_type": "code",
   "execution_count": 8,
   "id": "a49b1ad8",
   "metadata": {},
   "outputs": [],
   "source": [
    "def run_sub_nodes(i,initial_df,df,curr_quantity,nobj,threshold,maximum_weight,score,end_pos):\n",
    "    \n",
    "    curr_quantity[i]          =    int(maximum_weight // df[\"weight\"].iloc[i])\n",
    "    curr_weight               =    curr_quantity[i]  * df[\"weight\"].iloc[i]\n",
    "    \n",
    "\n",
    "    curr_quantity[i]       =    maximum_weight // df[\"weight\"].iloc[i]\n",
    "    curr_weight        =    curr_quantity[i]  * df[\"weight\"].iloc[i]\n",
    "    score              =    curr_quantity[i]  * df[\"normalized_value\"].iloc[i]* df[\"weight\"].iloc[i]\n",
    "\n",
    "    \n",
    "    \n",
    "    \n",
    "    while(curr_quantity[i] >=0):\n",
    "        if(curr_quantity[i] !=0):\n",
    "            score = curr_quantity[i]* df[\"normalized_value\"].iloc[i]* df[\"weight\"].iloc[i]+score\n",
    "        if(score>=threshold or i==end_pos):\n",
    "            return score\n",
    "        else:\n",
    "            score = run_sub_nodes(i+1,initial_df,df,curr_quantity,nobj,threshold,maximum_weight,score,end_pos)\n",
    "            curr_weight = curr_weight - df[\"weight\"].iloc[i]\n",
    "            curr_quantity[i] = curr_quantity[i] - 1\n",
    "        \n",
    "    return 0"
   ]
  },
  {
   "cell_type": "code",
   "execution_count": 9,
   "id": "b095f256",
   "metadata": {},
   "outputs": [
    {
     "name": "stdout",
     "output_type": "stream",
     "text": [
      "not activated\n",
      "0\n"
     ]
    }
   ],
   "source": [
    "df1 = df.copy()\n",
    "\n",
    "s=solution(df,df1,number_of_elements,threshold,maximum_weight,0)\n",
    "print(s)"
   ]
  },
  {
   "cell_type": "code",
   "execution_count": null,
   "id": "4af11594",
   "metadata": {},
   "outputs": [],
   "source": []
  }
 ],
 "metadata": {
  "kernelspec": {
   "display_name": "Python 3",
   "language": "python",
   "name": "python3"
  },
  "language_info": {
   "codemirror_mode": {
    "name": "ipython",
    "version": 3
   },
   "file_extension": ".py",
   "mimetype": "text/x-python",
   "name": "python",
   "nbconvert_exporter": "python",
   "pygments_lexer": "ipython3",
   "version": "3.8.8"
  }
 },
 "nbformat": 4,
 "nbformat_minor": 5
}
