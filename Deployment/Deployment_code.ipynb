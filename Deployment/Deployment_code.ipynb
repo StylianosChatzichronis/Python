{
  "nbformat": 4,
  "nbformat_minor": 0,
  "metadata": {
    "colab": {
      "name": "Deployment_code.ipynb",
      "provenance": []
    },
    "kernelspec": {
      "name": "python3",
      "display_name": "Python 3"
    },
    "language_info": {
      "name": "python"
    }
  },
  "cells": [
    {
      "cell_type": "code",
      "metadata": {
        "id": "azHeH-9cUCtI"
      },
      "source": [
        "import numpy as np\n",
        "import pandas as pd"
      ],
      "execution_count": 1,
      "outputs": []
    },
    {
      "cell_type": "code",
      "metadata": {
        "colab": {
          "base_uri": "https://localhost:8080/",
          "height": 206
        },
        "id": "CSbBUTYuUHWB",
        "outputId": "400f0939-7052-40bc-b38e-5c358f2f2f55"
      },
      "source": [
        "iris = pd.read_csv('iris.csv')\n",
        "iris.head()"
      ],
      "execution_count": 2,
      "outputs": [
        {
          "output_type": "execute_result",
          "data": {
            "text/html": [
              "<div>\n",
              "<style scoped>\n",
              "    .dataframe tbody tr th:only-of-type {\n",
              "        vertical-align: middle;\n",
              "    }\n",
              "\n",
              "    .dataframe tbody tr th {\n",
              "        vertical-align: top;\n",
              "    }\n",
              "\n",
              "    .dataframe thead th {\n",
              "        text-align: right;\n",
              "    }\n",
              "</style>\n",
              "<table border=\"1\" class=\"dataframe\">\n",
              "  <thead>\n",
              "    <tr style=\"text-align: right;\">\n",
              "      <th></th>\n",
              "      <th>sepal_length</th>\n",
              "      <th>sepal_width</th>\n",
              "      <th>petal_length</th>\n",
              "      <th>petal_width</th>\n",
              "      <th>species</th>\n",
              "    </tr>\n",
              "  </thead>\n",
              "  <tbody>\n",
              "    <tr>\n",
              "      <th>0</th>\n",
              "      <td>5.1</td>\n",
              "      <td>3.5</td>\n",
              "      <td>1.4</td>\n",
              "      <td>0.2</td>\n",
              "      <td>setosa</td>\n",
              "    </tr>\n",
              "    <tr>\n",
              "      <th>1</th>\n",
              "      <td>4.9</td>\n",
              "      <td>3.0</td>\n",
              "      <td>1.4</td>\n",
              "      <td>0.2</td>\n",
              "      <td>setosa</td>\n",
              "    </tr>\n",
              "    <tr>\n",
              "      <th>2</th>\n",
              "      <td>4.7</td>\n",
              "      <td>3.2</td>\n",
              "      <td>1.3</td>\n",
              "      <td>0.2</td>\n",
              "      <td>setosa</td>\n",
              "    </tr>\n",
              "    <tr>\n",
              "      <th>3</th>\n",
              "      <td>4.6</td>\n",
              "      <td>3.1</td>\n",
              "      <td>1.5</td>\n",
              "      <td>0.2</td>\n",
              "      <td>setosa</td>\n",
              "    </tr>\n",
              "    <tr>\n",
              "      <th>4</th>\n",
              "      <td>5.0</td>\n",
              "      <td>3.6</td>\n",
              "      <td>1.4</td>\n",
              "      <td>0.2</td>\n",
              "      <td>setosa</td>\n",
              "    </tr>\n",
              "  </tbody>\n",
              "</table>\n",
              "</div>"
            ],
            "text/plain": [
              "   sepal_length  sepal_width  petal_length  petal_width species\n",
              "0           5.1          3.5           1.4          0.2  setosa\n",
              "1           4.9          3.0           1.4          0.2  setosa\n",
              "2           4.7          3.2           1.3          0.2  setosa\n",
              "3           4.6          3.1           1.5          0.2  setosa\n",
              "4           5.0          3.6           1.4          0.2  setosa"
            ]
          },
          "metadata": {
            "tags": []
          },
          "execution_count": 2
        }
      ]
    },
    {
      "cell_type": "code",
      "metadata": {
        "colab": {
          "base_uri": "https://localhost:8080/"
        },
        "id": "rksu2XAfUrF7",
        "outputId": "6abe6879-5dc3-4dd5-b6a0-c15a0d5894c2"
      },
      "source": [
        "X = iris.drop('species',axis=1)\n",
        "y = iris['species']\n",
        "y.unique()"
      ],
      "execution_count": 3,
      "outputs": [
        {
          "output_type": "execute_result",
          "data": {
            "text/plain": [
              "array(['setosa', 'versicolor', 'virginica'], dtype=object)"
            ]
          },
          "metadata": {
            "tags": []
          },
          "execution_count": 3
        }
      ]
    },
    {
      "cell_type": "code",
      "metadata": {
        "id": "I3JQPe4DVF9D"
      },
      "source": [
        "from sklearn.preprocessing import LabelBinarizer"
      ],
      "execution_count": 4,
      "outputs": []
    },
    {
      "cell_type": "code",
      "metadata": {
        "colab": {
          "base_uri": "https://localhost:8080/"
        },
        "id": "GYoVnWIOVNOq",
        "outputId": "3c3c119b-8519-4f67-ab7e-407633e88a87"
      },
      "source": [
        "encoder = LabelBinarizer()\n",
        "y = encoder.fit_transform(y)\n",
        "print(y[:5]) #one-hot encoded"
      ],
      "execution_count": 5,
      "outputs": [
        {
          "output_type": "stream",
          "text": [
            "[[1 0 0]\n",
            " [1 0 0]\n",
            " [1 0 0]\n",
            " [1 0 0]\n",
            " [1 0 0]]\n"
          ],
          "name": "stdout"
        }
      ]
    },
    {
      "cell_type": "code",
      "metadata": {
        "id": "Lzsy8zp8Vpck"
      },
      "source": [
        "from sklearn.model_selection import train_test_split\n",
        "from sklearn.preprocessing import MinMaxScaler"
      ],
      "execution_count": 6,
      "outputs": []
    },
    {
      "cell_type": "code",
      "metadata": {
        "id": "YV9O1PwiVyMG"
      },
      "source": [
        "X_train, X_test, y_train, y_test = train_test_split(X, y, test_size=0.2)"
      ],
      "execution_count": 7,
      "outputs": []
    },
    {
      "cell_type": "code",
      "metadata": {
        "id": "D3lWym8JV1I1"
      },
      "source": [
        "scaler = MinMaxScaler()\n",
        "scaler.fit(X_train)\n",
        "scaled_X_train = scaler.transform(X_train)\n",
        "scaled_X_test  = scaler.transform(X_test)"
      ],
      "execution_count": 8,
      "outputs": []
    },
    {
      "cell_type": "code",
      "metadata": {
        "id": "FekI_nvhV78T"
      },
      "source": [
        "from tensorflow.keras.models import Sequential\n",
        "from tensorflow.keras.layers import Dense"
      ],
      "execution_count": 9,
      "outputs": []
    },
    {
      "cell_type": "code",
      "metadata": {
        "id": "Tjn5g2u1V987"
      },
      "source": [
        "model = Sequential()\n",
        "model.add(Dense(units=4,activation='relu',input_shape=[4,])) #4 features\n",
        "model.add(Dense(units=3,activation='softmax')) \n",
        "#between three classes choose one, therefore softmax (multi-class classification)\n",
        "\n",
        "model.compile(optimizer='adam',\n",
        "              loss='categorical_crossentropy',metrics=['accuracy'])"
      ],
      "execution_count": 10,
      "outputs": []
    },
    {
      "cell_type": "code",
      "metadata": {
        "id": "wNsgx7E5WVBz"
      },
      "source": [
        "from tensorflow.keras.callbacks import EarlyStopping"
      ],
      "execution_count": 11,
      "outputs": []
    },
    {
      "cell_type": "code",
      "metadata": {
        "colab": {
          "base_uri": "https://localhost:8080/"
        },
        "id": "zaZO8ycRWXLc",
        "outputId": "8bbfe4ca-6928-44e5-d6a1-191e3fd05d4f"
      },
      "source": [
        "early_stop = EarlyStopping(patience=10)\n",
        "model.fit(x=scaled_X_train, \n",
        "          y=y_train, \n",
        "          epochs=400,\n",
        "          validation_data=(scaled_X_test, y_test), verbose=0 ,callbacks=[early_stop] )"
      ],
      "execution_count": 12,
      "outputs": [
        {
          "output_type": "execute_result",
          "data": {
            "text/plain": [
              "<tensorflow.python.keras.callbacks.History at 0x7fd0d842a9d0>"
            ]
          },
          "metadata": {
            "tags": []
          },
          "execution_count": 12
        }
      ]
    },
    {
      "cell_type": "code",
      "metadata": {
        "colab": {
          "base_uri": "https://localhost:8080/",
          "height": 206
        },
        "id": "whnlabrtWley",
        "outputId": "a662d615-ac48-4dcf-ea1c-43f782519b8d"
      },
      "source": [
        "metrics = pd.DataFrame(model.history.history)\n",
        "metrics.head()"
      ],
      "execution_count": 13,
      "outputs": [
        {
          "output_type": "execute_result",
          "data": {
            "text/html": [
              "<div>\n",
              "<style scoped>\n",
              "    .dataframe tbody tr th:only-of-type {\n",
              "        vertical-align: middle;\n",
              "    }\n",
              "\n",
              "    .dataframe tbody tr th {\n",
              "        vertical-align: top;\n",
              "    }\n",
              "\n",
              "    .dataframe thead th {\n",
              "        text-align: right;\n",
              "    }\n",
              "</style>\n",
              "<table border=\"1\" class=\"dataframe\">\n",
              "  <thead>\n",
              "    <tr style=\"text-align: right;\">\n",
              "      <th></th>\n",
              "      <th>loss</th>\n",
              "      <th>accuracy</th>\n",
              "      <th>val_loss</th>\n",
              "      <th>val_accuracy</th>\n",
              "    </tr>\n",
              "  </thead>\n",
              "  <tbody>\n",
              "    <tr>\n",
              "      <th>0</th>\n",
              "      <td>1.284351</td>\n",
              "      <td>0.133333</td>\n",
              "      <td>1.299760</td>\n",
              "      <td>0.0</td>\n",
              "    </tr>\n",
              "    <tr>\n",
              "      <th>1</th>\n",
              "      <td>1.273459</td>\n",
              "      <td>0.016667</td>\n",
              "      <td>1.286899</td>\n",
              "      <td>0.0</td>\n",
              "    </tr>\n",
              "    <tr>\n",
              "      <th>2</th>\n",
              "      <td>1.262296</td>\n",
              "      <td>0.008333</td>\n",
              "      <td>1.275145</td>\n",
              "      <td>0.0</td>\n",
              "    </tr>\n",
              "    <tr>\n",
              "      <th>3</th>\n",
              "      <td>1.252813</td>\n",
              "      <td>0.000000</td>\n",
              "      <td>1.263580</td>\n",
              "      <td>0.0</td>\n",
              "    </tr>\n",
              "    <tr>\n",
              "      <th>4</th>\n",
              "      <td>1.243119</td>\n",
              "      <td>0.000000</td>\n",
              "      <td>1.253134</td>\n",
              "      <td>0.0</td>\n",
              "    </tr>\n",
              "  </tbody>\n",
              "</table>\n",
              "</div>"
            ],
            "text/plain": [
              "       loss  accuracy  val_loss  val_accuracy\n",
              "0  1.284351  0.133333  1.299760           0.0\n",
              "1  1.273459  0.016667  1.286899           0.0\n",
              "2  1.262296  0.008333  1.275145           0.0\n",
              "3  1.252813  0.000000  1.263580           0.0\n",
              "4  1.243119  0.000000  1.253134           0.0"
            ]
          },
          "metadata": {
            "tags": []
          },
          "execution_count": 13
        }
      ]
    },
    {
      "cell_type": "code",
      "metadata": {
        "colab": {
          "base_uri": "https://localhost:8080/",
          "height": 283
        },
        "id": "574rcaFvWpqT",
        "outputId": "1ed196ba-23af-42a8-f131-2ae2e60d5fb2"
      },
      "source": [
        "metrics[['loss','val_loss']].plot()"
      ],
      "execution_count": 14,
      "outputs": [
        {
          "output_type": "execute_result",
          "data": {
            "text/plain": [
              "<matplotlib.axes._subplots.AxesSubplot at 0x7fd091d32510>"
            ]
          },
          "metadata": {
            "tags": []
          },
          "execution_count": 14
        },
        {
          "output_type": "display_data",
          "data": {
            "image/png": "[encoded data removed]",
            "text/plain": [
              "<Figure size 432x288 with 1 Axes>"
            ]
          },
          "metadata": {
            "tags": [],
            "needs_background": "light"
          }
        }
      ]
    },
    {
      "cell_type": "code",
      "metadata": {
        "colab": {
          "base_uri": "https://localhost:8080/",
          "height": 283
        },
        "id": "i6Nwrq_AXHVD",
        "outputId": "d5bd0d46-611d-4ed2-bf1b-516572e62492"
      },
      "source": [
        "metrics[['accuracy','val_accuracy']].plot()"
      ],
      "execution_count": 15,
      "outputs": [
        {
          "output_type": "execute_result",
          "data": {
            "text/plain": [
              "<matplotlib.axes._subplots.AxesSubplot at 0x7fd091c38390>"
            ]
          },
          "metadata": {
            "tags": []
          },
          "execution_count": 15
        },
        {
          "output_type": "display_data",
          "data": {
            "image/png": "[encoded data removed]",
            "text/plain": [
              "<Figure size 432x288 with 1 Axes>"
            ]
          },
          "metadata": {
            "tags": [],
            "needs_background": "light"
          }
        }
      ]
    },
    {
      "cell_type": "code",
      "metadata": {
        "colab": {
          "base_uri": "https://localhost:8080/"
        },
        "id": "VEghJjVbX-s7",
        "outputId": "0e35d30d-6ed9-46bd-cdff-b51ab5cdea66"
      },
      "source": [
        "model.evaluate(scaled_X_test,y_test,verbose=0)"
      ],
      "execution_count": 16,
      "outputs": [
        {
          "output_type": "execute_result",
          "data": {
            "text/plain": [
              "[0.3607468008995056, 1.0]"
            ]
          },
          "metadata": {
            "tags": []
          },
          "execution_count": 16
        }
      ]
    },
    {
      "cell_type": "markdown",
      "metadata": {
        "id": "8APj5IWlYVS6"
      },
      "source": [
        "Deployment"
      ]
    },
    {
      "cell_type": "code",
      "metadata": {
        "id": "iGPpNokJYUvK"
      },
      "source": [
        "epochs = len(metrics)\n",
        "#for deployment retrain ALL DATA, both test and train\n",
        "scaled_X = scaler.fit_transform(X)"
      ],
      "execution_count": 17,
      "outputs": []
    },
    {
      "cell_type": "code",
      "metadata": {
        "id": "-ZQkeuzYZVSa"
      },
      "source": [
        "model = Sequential()\n",
        "model.add(Dense(units=4,activation='relu'))\n",
        "\n",
        "# Last layer for multi-class classification of 3 species\n",
        "model.add(Dense(units=3,activation='softmax'))\n",
        "\n",
        "model.compile(optimizer='adam',\n",
        "              loss='categorical_crossentropy',metrics=['accuracy'])"
      ],
      "execution_count": 18,
      "outputs": []
    },
    {
      "cell_type": "code",
      "metadata": {
        "colab": {
          "base_uri": "https://localhost:8080/"
        },
        "id": "I9ltk5mJZY36",
        "outputId": "4528c2ac-4063-4064-f599-721945803e61"
      },
      "source": [
        "model.fit(scaled_X,y,epochs=epochs,verbose=1)"
      ],
      "execution_count": 19,
      "outputs": [
        {
          "output_type": "stream",
          "text": [
            "Epoch 1/400\n",
            "5/5 [==============================] - 0s 3ms/step - loss: 1.2999 - accuracy: 0.0067\n",
            "Epoch 2/400\n",
            "5/5 [==============================] - 0s 4ms/step - loss: 1.2897 - accuracy: 0.0000e+00\n",
            "Epoch 3/400\n",
            "5/5 [==============================] - 0s 3ms/step - loss: 1.2796 - accuracy: 0.0067\n",
            "Epoch 4/400\n",
            "5/5 [==============================] - 0s 4ms/step - loss: 1.2696 - accuracy: 0.0000e+00\n",
            "Epoch 5/400\n",
            "5/5 [==============================] - 0s 3ms/step - loss: 1.2602 - accuracy: 0.0000e+00\n",
            "Epoch 6/400\n",
            "5/5 [==============================] - 0s 4ms/step - loss: 1.2507 - accuracy: 0.0000e+00\n",
            "Epoch 7/400\n",
            "5/5 [==============================] - 0s 3ms/step - loss: 1.2423 - accuracy: 0.0000e+00\n",
            "Epoch 8/400\n",
            "5/5 [==============================] - 0s 3ms/step - loss: 1.2340 - accuracy: 0.0000e+00\n",
            "Epoch 9/400\n",
            "5/5 [==============================] - 0s 3ms/step - loss: 1.2251 - accuracy: 0.0000e+00\n",
            "Epoch 10/400\n",
            "5/5 [==============================] - 0s 4ms/step - loss: 1.2178 - accuracy: 0.0000e+00\n",
            "Epoch 11/400\n",
            "5/5 [==============================] - 0s 3ms/step - loss: 1.2108 - accuracy: 0.0000e+00\n",
            "Epoch 12/400\n",
            "5/5 [==============================] - 0s 4ms/step - loss: 1.2035 - accuracy: 0.0000e+00\n",
            "Epoch 13/400\n",
            "5/5 [==============================] - 0s 4ms/step - loss: 1.1971 - accuracy: 0.0000e+00\n",
            "Epoch 14/400\n",
            "5/5 [==============================] - 0s 4ms/step - loss: 1.1906 - accuracy: 0.0000e+00\n",
            "Epoch 15/400\n",
            "5/5 [==============================] - 0s 4ms/step - loss: 1.1844 - accuracy: 0.0000e+00\n",
            "Epoch 16/400\n",
            "5/5 [==============================] - 0s 3ms/step - loss: 1.1782 - accuracy: 0.0000e+00\n",
            "Epoch 17/400\n",
            "5/5 [==============================] - 0s 5ms/step - loss: 1.1725 - accuracy: 0.0000e+00\n",
            "Epoch 18/400\n",
            "5/5 [==============================] - 0s 4ms/step - loss: 1.1672 - accuracy: 0.0000e+00\n",
            "Epoch 19/400\n",
            "5/5 [==============================] - 0s 4ms/step - loss: 1.1614 - accuracy: 0.0000e+00\n",
            "Epoch 20/400\n",
            "5/5 [==============================] - 0s 4ms/step - loss: 1.1564 - accuracy: 0.0000e+00\n",
            "Epoch 21/400\n",
            "5/5 [==============================] - 0s 3ms/step - loss: 1.1512 - accuracy: 0.0000e+00\n",
            "Epoch 22/400\n",
            "5/5 [==============================] - 0s 4ms/step - loss: 1.1460 - accuracy: 0.0000e+00\n",
            "Epoch 23/400\n",
            "5/5 [==============================] - 0s 3ms/step - loss: 1.1415 - accuracy: 0.0000e+00\n",
            "Epoch 24/400\n",
            "5/5 [==============================] - 0s 6ms/step - loss: 1.1372 - accuracy: 0.0333\n",
            "Epoch 25/400\n",
            "5/5 [==============================] - 0s 4ms/step - loss: 1.1335 - accuracy: 0.0667\n",
            "Epoch 26/400\n",
            "5/5 [==============================] - 0s 4ms/step - loss: 1.1299 - accuracy: 0.1000\n",
            "Epoch 27/400\n",
            "5/5 [==============================] - 0s 4ms/step - loss: 1.1274 - accuracy: 0.1133\n",
            "Epoch 28/400\n",
            "5/5 [==============================] - 0s 3ms/step - loss: 1.1247 - accuracy: 0.1667\n",
            "Epoch 29/400\n",
            "5/5 [==============================] - 0s 4ms/step - loss: 1.1226 - accuracy: 0.1800\n",
            "Epoch 30/400\n",
            "5/5 [==============================] - 0s 4ms/step - loss: 1.1206 - accuracy: 0.2000\n",
            "Epoch 31/400\n",
            "5/5 [==============================] - 0s 3ms/step - loss: 1.1188 - accuracy: 0.2000\n",
            "Epoch 32/400\n",
            "5/5 [==============================] - 0s 4ms/step - loss: 1.1171 - accuracy: 0.2133\n",
            "Epoch 33/400\n",
            "5/5 [==============================] - 0s 3ms/step - loss: 1.1155 - accuracy: 0.2400\n",
            "Epoch 34/400\n",
            "5/5 [==============================] - 0s 4ms/step - loss: 1.1140 - accuracy: 0.2400\n",
            "Epoch 35/400\n",
            "5/5 [==============================] - 0s 4ms/step - loss: 1.1127 - accuracy: 0.2533\n",
            "Epoch 36/400\n",
            "5/5 [==============================] - 0s 3ms/step - loss: 1.1114 - accuracy: 0.2733\n",
            "Epoch 37/400\n",
            "5/5 [==============================] - 0s 3ms/step - loss: 1.1103 - accuracy: 0.2733\n",
            "Epoch 38/400\n",
            "5/5 [==============================] - 0s 3ms/step - loss: 1.1091 - accuracy: 0.2867\n",
            "Epoch 39/400\n",
            "5/5 [==============================] - 0s 3ms/step - loss: 1.1081 - accuracy: 0.2867\n",
            "Epoch 40/400\n",
            "5/5 [==============================] - 0s 3ms/step - loss: 1.1070 - accuracy: 0.3067\n",
            "Epoch 41/400\n",
            "5/5 [==============================] - 0s 2ms/step - loss: 1.1059 - accuracy: 0.3200\n",
            "Epoch 42/400\n",
            "5/5 [==============================] - 0s 3ms/step - loss: 1.1051 - accuracy: 0.3200\n",
            "Epoch 43/400\n",
            "5/5 [==============================] - 0s 3ms/step - loss: 1.1041 - accuracy: 0.3200\n",
            "Epoch 44/400\n",
            "5/5 [==============================] - 0s 3ms/step - loss: 1.1033 - accuracy: 0.3200\n",
            "Epoch 45/400\n",
            "5/5 [==============================] - 0s 3ms/step - loss: 1.1025 - accuracy: 0.3200\n",
            "Epoch 46/400\n",
            "5/5 [==============================] - 0s 4ms/step - loss: 1.1019 - accuracy: 0.3200\n",
            "Epoch 47/400\n",
            "5/5 [==============================] - 0s 3ms/step - loss: 1.1014 - accuracy: 0.3267\n",
            "Epoch 48/400\n",
            "5/5 [==============================] - 0s 3ms/step - loss: 1.1009 - accuracy: 0.3267\n",
            "Epoch 49/400\n",
            "5/5 [==============================] - 0s 3ms/step - loss: 1.1006 - accuracy: 0.3267\n",
            "Epoch 50/400\n",
            "5/5 [==============================] - 0s 8ms/step - loss: 1.1002 - accuracy: 0.3267\n",
            "Epoch 51/400\n",
            "5/5 [==============================] - 0s 3ms/step - loss: 1.0999 - accuracy: 0.3267\n",
            "Epoch 52/400\n",
            "5/5 [==============================] - 0s 4ms/step - loss: 1.0996 - accuracy: 0.3267\n",
            "Epoch 53/400\n",
            "5/5 [==============================] - 0s 3ms/step - loss: 1.0994 - accuracy: 0.3267\n",
            "Epoch 54/400\n",
            "5/5 [==============================] - 0s 2ms/step - loss: 1.0991 - accuracy: 0.3267\n",
            "Epoch 55/400\n",
            "5/5 [==============================] - 0s 4ms/step - loss: 1.0989 - accuracy: 0.3267\n",
            "Epoch 56/400\n",
            "5/5 [==============================] - 0s 3ms/step - loss: 1.0987 - accuracy: 0.3267\n",
            "Epoch 57/400\n",
            "5/5 [==============================] - 0s 3ms/step - loss: 1.0984 - accuracy: 0.3267\n",
            "Epoch 58/400\n",
            "5/5 [==============================] - 0s 4ms/step - loss: 1.0982 - accuracy: 0.3267\n",
            "Epoch 59/400\n",
            "5/5 [==============================] - 0s 3ms/step - loss: 1.0980 - accuracy: 0.3267\n",
            "Epoch 60/400\n",
            "5/5 [==============================] - 0s 3ms/step - loss: 1.0978 - accuracy: 0.3267\n",
            "Epoch 61/400\n",
            "5/5 [==============================] - 0s 4ms/step - loss: 1.0976 - accuracy: 0.3267\n",
            "Epoch 62/400\n",
            "5/5 [==============================] - 0s 4ms/step - loss: 1.0974 - accuracy: 0.3267\n",
            "Epoch 63/400\n",
            "5/5 [==============================] - 0s 3ms/step - loss: 1.0972 - accuracy: 0.3267\n",
            "Epoch 64/400\n",
            "5/5 [==============================] - 0s 4ms/step - loss: 1.0970 - accuracy: 0.3267\n",
            "Epoch 65/400\n",
            "5/5 [==============================] - 0s 3ms/step - loss: 1.0968 - accuracy: 0.3267\n",
            "Epoch 66/400\n",
            "5/5 [==============================] - 0s 3ms/step - loss: 1.0965 - accuracy: 0.3267\n",
            "Epoch 67/400\n",
            "5/5 [==============================] - 0s 4ms/step - loss: 1.0963 - accuracy: 0.3267\n",
            "Epoch 68/400\n",
            "5/5 [==============================] - 0s 4ms/step - loss: 1.0961 - accuracy: 0.3267\n",
            "Epoch 69/400\n",
            "5/5 [==============================] - 0s 3ms/step - loss: 1.0959 - accuracy: 0.3267\n",
            "Epoch 70/400\n",
            "5/5 [==============================] - 0s 4ms/step - loss: 1.0956 - accuracy: 0.3267\n",
            "Epoch 71/400\n",
            "5/5 [==============================] - 0s 2ms/step - loss: 1.0954 - accuracy: 0.3267\n",
            "Epoch 72/400\n",
            "5/5 [==============================] - 0s 3ms/step - loss: 1.0952 - accuracy: 0.3333\n",
            "Epoch 73/400\n",
            "5/5 [==============================] - 0s 3ms/step - loss: 1.0950 - accuracy: 0.3333\n",
            "Epoch 74/400\n",
            "5/5 [==============================] - 0s 3ms/step - loss: 1.0946 - accuracy: 0.3333\n",
            "Epoch 75/400\n",
            "5/5 [==============================] - 0s 5ms/step - loss: 1.0944 - accuracy: 0.3400\n",
            "Epoch 76/400\n",
            "5/5 [==============================] - 0s 4ms/step - loss: 1.0941 - accuracy: 0.3400\n",
            "Epoch 77/400\n",
            "5/5 [==============================] - 0s 3ms/step - loss: 1.0938 - accuracy: 0.3667\n",
            "Epoch 78/400\n",
            "5/5 [==============================] - 0s 3ms/step - loss: 1.0935 - accuracy: 0.3600\n",
            "Epoch 79/400\n",
            "5/5 [==============================] - 0s 3ms/step - loss: 1.0931 - accuracy: 0.3733\n",
            "Epoch 80/400\n",
            "5/5 [==============================] - 0s 4ms/step - loss: 1.0928 - accuracy: 0.4067\n",
            "Epoch 81/400\n",
            "5/5 [==============================] - 0s 3ms/step - loss: 1.0924 - accuracy: 0.4133\n",
            "Epoch 82/400\n",
            "5/5 [==============================] - 0s 2ms/step - loss: 1.0920 - accuracy: 0.4467\n",
            "Epoch 83/400\n",
            "5/5 [==============================] - 0s 4ms/step - loss: 1.0916 - accuracy: 0.4800\n",
            "Epoch 84/400\n",
            "5/5 [==============================] - 0s 3ms/step - loss: 1.0912 - accuracy: 0.4733\n",
            "Epoch 85/400\n",
            "5/5 [==============================] - 0s 3ms/step - loss: 1.0907 - accuracy: 0.5267\n",
            "Epoch 86/400\n",
            "5/5 [==============================] - 0s 5ms/step - loss: 1.0902 - accuracy: 0.5267\n",
            "Epoch 87/400\n",
            "5/5 [==============================] - 0s 4ms/step - loss: 1.0897 - accuracy: 0.5400\n",
            "Epoch 88/400\n",
            "5/5 [==============================] - 0s 3ms/step - loss: 1.0892 - accuracy: 0.5133\n",
            "Epoch 89/400\n",
            "5/5 [==============================] - 0s 5ms/step - loss: 1.0885 - accuracy: 0.5267\n",
            "Epoch 90/400\n",
            "5/5 [==============================] - 0s 4ms/step - loss: 1.0879 - accuracy: 0.5467\n",
            "Epoch 91/400\n",
            "5/5 [==============================] - 0s 3ms/step - loss: 1.0872 - accuracy: 0.5467\n",
            "Epoch 92/400\n",
            "5/5 [==============================] - 0s 3ms/step - loss: 1.0865 - accuracy: 0.5533\n",
            "Epoch 93/400\n",
            "5/5 [==============================] - 0s 3ms/step - loss: 1.0857 - accuracy: 0.5533\n",
            "Epoch 94/400\n",
            "5/5 [==============================] - 0s 3ms/step - loss: 1.0849 - accuracy: 0.5333\n",
            "Epoch 95/400\n",
            "5/5 [==============================] - 0s 2ms/step - loss: 1.0839 - accuracy: 0.5400\n",
            "Epoch 96/400\n",
            "5/5 [==============================] - 0s 3ms/step - loss: 1.0831 - accuracy: 0.5400\n",
            "Epoch 97/400\n",
            "5/5 [==============================] - 0s 4ms/step - loss: 1.0821 - accuracy: 0.5333\n",
            "Epoch 98/400\n",
            "5/5 [==============================] - 0s 3ms/step - loss: 1.0811 - accuracy: 0.5333\n",
            "Epoch 99/400\n",
            "5/5 [==============================] - 0s 4ms/step - loss: 1.0800 - accuracy: 0.5400\n",
            "Epoch 100/400\n",
            "5/5 [==============================] - 0s 4ms/step - loss: 1.0788 - accuracy: 0.5667\n",
            "Epoch 101/400\n",
            "5/5 [==============================] - 0s 2ms/step - loss: 1.0776 - accuracy: 0.5600\n",
            "Epoch 102/400\n",
            "5/5 [==============================] - 0s 3ms/step - loss: 1.0763 - accuracy: 0.5667\n",
            "Epoch 103/400\n",
            "5/5 [==============================] - 0s 3ms/step - loss: 1.0750 - accuracy: 0.5667\n",
            "Epoch 104/400\n",
            "5/5 [==============================] - 0s 3ms/step - loss: 1.0737 - accuracy: 0.5533\n",
            "Epoch 105/400\n",
            "5/5 [==============================] - 0s 3ms/step - loss: 1.0721 - accuracy: 0.5800\n",
            "Epoch 106/400\n",
            "5/5 [==============================] - 0s 3ms/step - loss: 1.0707 - accuracy: 0.5733\n",
            "Epoch 107/400\n",
            "5/5 [==============================] - 0s 4ms/step - loss: 1.0690 - accuracy: 0.5867\n",
            "Epoch 108/400\n",
            "5/5 [==============================] - 0s 3ms/step - loss: 1.0674 - accuracy: 0.5800\n",
            "Epoch 109/400\n",
            "5/5 [==============================] - 0s 2ms/step - loss: 1.0656 - accuracy: 0.5733\n",
            "Epoch 110/400\n",
            "5/5 [==============================] - 0s 4ms/step - loss: 1.0639 - accuracy: 0.5733\n",
            "Epoch 111/400\n",
            "5/5 [==============================] - 0s 4ms/step - loss: 1.0620 - accuracy: 0.5667\n",
            "Epoch 112/400\n",
            "5/5 [==============================] - 0s 3ms/step - loss: 1.0600 - accuracy: 0.5667\n",
            "Epoch 113/400\n",
            "5/5 [==============================] - 0s 3ms/step - loss: 1.0580 - accuracy: 0.5667\n",
            "Epoch 114/400\n",
            "5/5 [==============================] - 0s 3ms/step - loss: 1.0558 - accuracy: 0.5667\n",
            "Epoch 115/400\n",
            "5/5 [==============================] - 0s 3ms/step - loss: 1.0537 - accuracy: 0.5667\n",
            "Epoch 116/400\n",
            "5/5 [==============================] - 0s 3ms/step - loss: 1.0513 - accuracy: 0.5667\n",
            "Epoch 117/400\n",
            "5/5 [==============================] - 0s 5ms/step - loss: 1.0492 - accuracy: 0.5667\n",
            "Epoch 118/400\n",
            "5/5 [==============================] - 0s 3ms/step - loss: 1.0468 - accuracy: 0.5733\n",
            "Epoch 119/400\n",
            "5/5 [==============================] - 0s 3ms/step - loss: 1.0445 - accuracy: 0.5733\n",
            "Epoch 120/400\n",
            "5/5 [==============================] - 0s 3ms/step - loss: 1.0418 - accuracy: 0.5733\n",
            "Epoch 121/400\n",
            "5/5 [==============================] - 0s 2ms/step - loss: 1.0395 - accuracy: 0.5733\n",
            "Epoch 122/400\n",
            "5/5 [==============================] - 0s 4ms/step - loss: 1.0366 - accuracy: 0.5733\n",
            "Epoch 123/400\n",
            "5/5 [==============================] - 0s 5ms/step - loss: 1.0340 - accuracy: 0.5733\n",
            "Epoch 124/400\n",
            "5/5 [==============================] - 0s 3ms/step - loss: 1.0313 - accuracy: 0.5733\n",
            "Epoch 125/400\n",
            "5/5 [==============================] - 0s 4ms/step - loss: 1.0286 - accuracy: 0.5733\n",
            "Epoch 126/400\n",
            "5/5 [==============================] - 0s 3ms/step - loss: 1.0257 - accuracy: 0.5600\n",
            "Epoch 127/400\n",
            "5/5 [==============================] - 0s 2ms/step - loss: 1.0227 - accuracy: 0.5600\n",
            "Epoch 128/400\n",
            "5/5 [==============================] - 0s 2ms/step - loss: 1.0197 - accuracy: 0.5667\n",
            "Epoch 129/400\n",
            "5/5 [==============================] - 0s 3ms/step - loss: 1.0167 - accuracy: 0.5667\n",
            "Epoch 130/400\n",
            "5/5 [==============================] - 0s 3ms/step - loss: 1.0137 - accuracy: 0.5600\n",
            "Epoch 131/400\n",
            "5/5 [==============================] - 0s 2ms/step - loss: 1.0104 - accuracy: 0.5600\n",
            "Epoch 132/400\n",
            "5/5 [==============================] - 0s 3ms/step - loss: 1.0073 - accuracy: 0.5667\n",
            "Epoch 133/400\n",
            "5/5 [==============================] - 0s 4ms/step - loss: 1.0041 - accuracy: 0.5667\n",
            "Epoch 134/400\n",
            "5/5 [==============================] - 0s 4ms/step - loss: 1.0009 - accuracy: 0.5667\n",
            "Epoch 135/400\n",
            "5/5 [==============================] - 0s 2ms/step - loss: 0.9975 - accuracy: 0.5667\n",
            "Epoch 136/400\n",
            "5/5 [==============================] - 0s 3ms/step - loss: 0.9942 - accuracy: 0.5667\n",
            "Epoch 137/400\n",
            "5/5 [==============================] - 0s 3ms/step - loss: 0.9908 - accuracy: 0.5667\n",
            "Epoch 138/400\n",
            "5/5 [==============================] - 0s 3ms/step - loss: 0.9874 - accuracy: 0.5667\n",
            "Epoch 139/400\n",
            "5/5 [==============================] - 0s 9ms/step - loss: 0.9839 - accuracy: 0.5733\n",
            "Epoch 140/400\n",
            "5/5 [==============================] - 0s 8ms/step - loss: 0.9804 - accuracy: 0.5733\n",
            "Epoch 141/400\n",
            "5/5 [==============================] - 0s 3ms/step - loss: 0.9770 - accuracy: 0.5733\n",
            "Epoch 142/400\n",
            "5/5 [==============================] - 0s 3ms/step - loss: 0.9735 - accuracy: 0.5733\n",
            "Epoch 143/400\n",
            "5/5 [==============================] - 0s 3ms/step - loss: 0.9698 - accuracy: 0.5800\n",
            "Epoch 144/400\n",
            "5/5 [==============================] - 0s 4ms/step - loss: 0.9664 - accuracy: 0.5867\n",
            "Epoch 145/400\n",
            "5/5 [==============================] - 0s 4ms/step - loss: 0.9628 - accuracy: 0.5867\n",
            "Epoch 146/400\n",
            "5/5 [==============================] - 0s 3ms/step - loss: 0.9591 - accuracy: 0.5867\n",
            "Epoch 147/400\n",
            "5/5 [==============================] - 0s 3ms/step - loss: 0.9555 - accuracy: 0.5867\n",
            "Epoch 148/400\n",
            "5/5 [==============================] - 0s 3ms/step - loss: 0.9518 - accuracy: 0.5867\n",
            "Epoch 149/400\n",
            "5/5 [==============================] - 0s 3ms/step - loss: 0.9481 - accuracy: 0.5933\n",
            "Epoch 150/400\n",
            "5/5 [==============================] - 0s 3ms/step - loss: 0.9445 - accuracy: 0.5933\n",
            "Epoch 151/400\n",
            "5/5 [==============================] - 0s 2ms/step - loss: 0.9408 - accuracy: 0.5933\n",
            "Epoch 152/400\n",
            "5/5 [==============================] - 0s 3ms/step - loss: 0.9371 - accuracy: 0.5933\n",
            "Epoch 153/400\n",
            "5/5 [==============================] - 0s 3ms/step - loss: 0.9336 - accuracy: 0.5933\n",
            "Epoch 154/400\n",
            "5/5 [==============================] - 0s 3ms/step - loss: 0.9299 - accuracy: 0.5933\n",
            "Epoch 155/400\n",
            "5/5 [==============================] - 0s 3ms/step - loss: 0.9263 - accuracy: 0.5933\n",
            "Epoch 156/400\n",
            "5/5 [==============================] - 0s 3ms/step - loss: 0.9226 - accuracy: 0.5933\n",
            "Epoch 157/400\n",
            "5/5 [==============================] - 0s 3ms/step - loss: 0.9190 - accuracy: 0.5933\n",
            "Epoch 158/400\n",
            "5/5 [==============================] - 0s 3ms/step - loss: 0.9154 - accuracy: 0.5933\n",
            "Epoch 159/400\n",
            "5/5 [==============================] - 0s 4ms/step - loss: 0.9118 - accuracy: 0.5933\n",
            "Epoch 160/400\n",
            "5/5 [==============================] - 0s 3ms/step - loss: 0.9081 - accuracy: 0.5933\n",
            "Epoch 161/400\n",
            "5/5 [==============================] - 0s 4ms/step - loss: 0.9044 - accuracy: 0.5933\n",
            "Epoch 162/400\n",
            "5/5 [==============================] - 0s 3ms/step - loss: 0.9008 - accuracy: 0.5933\n",
            "Epoch 163/400\n",
            "5/5 [==============================] - 0s 3ms/step - loss: 0.8972 - accuracy: 0.5933\n",
            "Epoch 164/400\n",
            "5/5 [==============================] - 0s 5ms/step - loss: 0.8936 - accuracy: 0.5933\n",
            "Epoch 165/400\n",
            "5/5 [==============================] - 0s 4ms/step - loss: 0.8900 - accuracy: 0.6000\n",
            "Epoch 166/400\n",
            "5/5 [==============================] - 0s 3ms/step - loss: 0.8865 - accuracy: 0.6000\n",
            "Epoch 167/400\n",
            "5/5 [==============================] - 0s 3ms/step - loss: 0.8829 - accuracy: 0.6000\n",
            "Epoch 168/400\n",
            "5/5 [==============================] - 0s 3ms/step - loss: 0.8793 - accuracy: 0.6000\n",
            "Epoch 169/400\n",
            "5/5 [==============================] - 0s 3ms/step - loss: 0.8757 - accuracy: 0.6067\n",
            "Epoch 170/400\n",
            "5/5 [==============================] - 0s 3ms/step - loss: 0.8722 - accuracy: 0.6067\n",
            "Epoch 171/400\n",
            "5/5 [==============================] - 0s 3ms/step - loss: 0.8688 - accuracy: 0.6133\n",
            "Epoch 172/400\n",
            "5/5 [==============================] - 0s 3ms/step - loss: 0.8653 - accuracy: 0.6133\n",
            "Epoch 173/400\n",
            "5/5 [==============================] - 0s 3ms/step - loss: 0.8618 - accuracy: 0.6267\n",
            "Epoch 174/400\n",
            "5/5 [==============================] - 0s 3ms/step - loss: 0.8583 - accuracy: 0.6267\n",
            "Epoch 175/400\n",
            "5/5 [==============================] - 0s 3ms/step - loss: 0.8550 - accuracy: 0.6267\n",
            "Epoch 176/400\n",
            "5/5 [==============================] - 0s 3ms/step - loss: 0.8516 - accuracy: 0.6267\n",
            "Epoch 177/400\n",
            "5/5 [==============================] - 0s 3ms/step - loss: 0.8483 - accuracy: 0.6267\n",
            "Epoch 178/400\n",
            "5/5 [==============================] - 0s 3ms/step - loss: 0.8449 - accuracy: 0.6267\n",
            "Epoch 179/400\n",
            "5/5 [==============================] - 0s 3ms/step - loss: 0.8416 - accuracy: 0.6267\n",
            "Epoch 180/400\n",
            "5/5 [==============================] - 0s 3ms/step - loss: 0.8383 - accuracy: 0.6267\n",
            "Epoch 181/400\n",
            "5/5 [==============================] - 0s 3ms/step - loss: 0.8351 - accuracy: 0.6267\n",
            "Epoch 182/400\n",
            "5/5 [==============================] - 0s 4ms/step - loss: 0.8319 - accuracy: 0.6333\n",
            "Epoch 183/400\n",
            "5/5 [==============================] - 0s 3ms/step - loss: 0.8286 - accuracy: 0.6333\n",
            "Epoch 184/400\n",
            "5/5 [==============================] - 0s 3ms/step - loss: 0.8255 - accuracy: 0.6333\n",
            "Epoch 185/400\n",
            "5/5 [==============================] - 0s 3ms/step - loss: 0.8223 - accuracy: 0.6333\n",
            "Epoch 186/400\n",
            "5/5 [==============================] - 0s 3ms/step - loss: 0.8192 - accuracy: 0.6333\n",
            "Epoch 187/400\n",
            "5/5 [==============================] - 0s 3ms/step - loss: 0.8160 - accuracy: 0.6333\n",
            "Epoch 188/400\n",
            "5/5 [==============================] - 0s 3ms/step - loss: 0.8130 - accuracy: 0.6333\n",
            "Epoch 189/400\n",
            "5/5 [==============================] - 0s 4ms/step - loss: 0.8099 - accuracy: 0.6333\n",
            "Epoch 190/400\n",
            "5/5 [==============================] - 0s 3ms/step - loss: 0.8069 - accuracy: 0.6400\n",
            "Epoch 191/400\n",
            "5/5 [==============================] - 0s 3ms/step - loss: 0.8039 - accuracy: 0.6333\n",
            "Epoch 192/400\n",
            "5/5 [==============================] - 0s 3ms/step - loss: 0.8012 - accuracy: 0.6333\n",
            "Epoch 193/400\n",
            "5/5 [==============================] - 0s 3ms/step - loss: 0.7981 - accuracy: 0.6333\n",
            "Epoch 194/400\n",
            "5/5 [==============================] - 0s 4ms/step - loss: 0.7952 - accuracy: 0.6400\n",
            "Epoch 195/400\n",
            "5/5 [==============================] - 0s 3ms/step - loss: 0.7924 - accuracy: 0.6333\n",
            "Epoch 196/400\n",
            "5/5 [==============================] - 0s 5ms/step - loss: 0.7896 - accuracy: 0.6333\n",
            "Epoch 197/400\n",
            "5/5 [==============================] - 0s 5ms/step - loss: 0.7868 - accuracy: 0.6333\n",
            "Epoch 198/400\n",
            "5/5 [==============================] - 0s 4ms/step - loss: 0.7840 - accuracy: 0.6400\n",
            "Epoch 199/400\n",
            "5/5 [==============================] - 0s 3ms/step - loss: 0.7813 - accuracy: 0.6400\n",
            "Epoch 200/400\n",
            "5/5 [==============================] - 0s 3ms/step - loss: 0.7786 - accuracy: 0.6400\n",
            "Epoch 201/400\n",
            "5/5 [==============================] - 0s 3ms/step - loss: 0.7759 - accuracy: 0.6400\n",
            "Epoch 202/400\n",
            "5/5 [==============================] - 0s 5ms/step - loss: 0.7733 - accuracy: 0.6467\n",
            "Epoch 203/400\n",
            "5/5 [==============================] - 0s 4ms/step - loss: 0.7707 - accuracy: 0.6467\n",
            "Epoch 204/400\n",
            "5/5 [==============================] - 0s 3ms/step - loss: 0.7681 - accuracy: 0.6467\n",
            "Epoch 205/400\n",
            "5/5 [==============================] - 0s 4ms/step - loss: 0.7655 - accuracy: 0.6467\n",
            "Epoch 206/400\n",
            "5/5 [==============================] - 0s 4ms/step - loss: 0.7629 - accuracy: 0.6467\n",
            "Epoch 207/400\n",
            "5/5 [==============================] - 0s 4ms/step - loss: 0.7604 - accuracy: 0.6467\n",
            "Epoch 208/400\n",
            "5/5 [==============================] - 0s 3ms/step - loss: 0.7580 - accuracy: 0.6467\n",
            "Epoch 209/400\n",
            "5/5 [==============================] - 0s 4ms/step - loss: 0.7555 - accuracy: 0.6467\n",
            "Epoch 210/400\n",
            "5/5 [==============================] - 0s 3ms/step - loss: 0.7530 - accuracy: 0.6467\n",
            "Epoch 211/400\n",
            "5/5 [==============================] - 0s 4ms/step - loss: 0.7506 - accuracy: 0.6467\n",
            "Epoch 212/400\n",
            "5/5 [==============================] - 0s 4ms/step - loss: 0.7483 - accuracy: 0.6467\n",
            "Epoch 213/400\n",
            "5/5 [==============================] - 0s 3ms/step - loss: 0.7459 - accuracy: 0.6467\n",
            "Epoch 214/400\n",
            "5/5 [==============================] - 0s 3ms/step - loss: 0.7436 - accuracy: 0.6467\n",
            "Epoch 215/400\n",
            "5/5 [==============================] - 0s 5ms/step - loss: 0.7412 - accuracy: 0.6467\n",
            "Epoch 216/400\n",
            "5/5 [==============================] - 0s 3ms/step - loss: 0.7390 - accuracy: 0.6467\n",
            "Epoch 217/400\n",
            "5/5 [==============================] - 0s 3ms/step - loss: 0.7367 - accuracy: 0.6467\n",
            "Epoch 218/400\n",
            "5/5 [==============================] - 0s 5ms/step - loss: 0.7345 - accuracy: 0.6467\n",
            "Epoch 219/400\n",
            "5/5 [==============================] - 0s 4ms/step - loss: 0.7322 - accuracy: 0.6467\n",
            "Epoch 220/400\n",
            "5/5 [==============================] - 0s 4ms/step - loss: 0.7300 - accuracy: 0.6467\n",
            "Epoch 221/400\n",
            "5/5 [==============================] - 0s 4ms/step - loss: 0.7279 - accuracy: 0.6467\n",
            "Epoch 222/400\n",
            "5/5 [==============================] - 0s 3ms/step - loss: 0.7257 - accuracy: 0.6467\n",
            "Epoch 223/400\n",
            "5/5 [==============================] - 0s 3ms/step - loss: 0.7236 - accuracy: 0.6467\n",
            "Epoch 224/400\n",
            "5/5 [==============================] - 0s 4ms/step - loss: 0.7215 - accuracy: 0.6467\n",
            "Epoch 225/400\n",
            "5/5 [==============================] - 0s 4ms/step - loss: 0.7194 - accuracy: 0.6467\n",
            "Epoch 226/400\n",
            "5/5 [==============================] - 0s 4ms/step - loss: 0.7173 - accuracy: 0.6467\n",
            "Epoch 227/400\n",
            "5/5 [==============================] - 0s 3ms/step - loss: 0.7152 - accuracy: 0.6533\n",
            "Epoch 228/400\n",
            "5/5 [==============================] - 0s 3ms/step - loss: 0.7132 - accuracy: 0.6533\n",
            "Epoch 229/400\n",
            "5/5 [==============================] - 0s 3ms/step - loss: 0.7112 - accuracy: 0.6600\n",
            "Epoch 230/400\n",
            "5/5 [==============================] - 0s 4ms/step - loss: 0.7092 - accuracy: 0.6533\n",
            "Epoch 231/400\n",
            "5/5 [==============================] - 0s 4ms/step - loss: 0.7073 - accuracy: 0.6467\n",
            "Epoch 232/400\n",
            "5/5 [==============================] - 0s 3ms/step - loss: 0.7053 - accuracy: 0.6467\n",
            "Epoch 233/400\n",
            "5/5 [==============================] - 0s 4ms/step - loss: 0.7034 - accuracy: 0.6467\n",
            "Epoch 234/400\n",
            "5/5 [==============================] - 0s 5ms/step - loss: 0.7015 - accuracy: 0.6467\n",
            "Epoch 235/400\n",
            "5/5 [==============================] - 0s 5ms/step - loss: 0.6996 - accuracy: 0.6467\n",
            "Epoch 236/400\n",
            "5/5 [==============================] - 0s 4ms/step - loss: 0.6978 - accuracy: 0.6467\n",
            "Epoch 237/400\n",
            "5/5 [==============================] - 0s 3ms/step - loss: 0.6959 - accuracy: 0.6467\n",
            "Epoch 238/400\n",
            "5/5 [==============================] - 0s 3ms/step - loss: 0.6941 - accuracy: 0.6467\n",
            "Epoch 239/400\n",
            "5/5 [==============================] - 0s 3ms/step - loss: 0.6922 - accuracy: 0.6467\n",
            "Epoch 240/400\n",
            "5/5 [==============================] - 0s 5ms/step - loss: 0.6905 - accuracy: 0.6467\n",
            "Epoch 241/400\n",
            "5/5 [==============================] - 0s 4ms/step - loss: 0.6887 - accuracy: 0.6467\n",
            "Epoch 242/400\n",
            "5/5 [==============================] - 0s 4ms/step - loss: 0.6870 - accuracy: 0.6467\n",
            "Epoch 243/400\n",
            "5/5 [==============================] - 0s 3ms/step - loss: 0.6852 - accuracy: 0.6467\n",
            "Epoch 244/400\n",
            "5/5 [==============================] - 0s 3ms/step - loss: 0.6835 - accuracy: 0.6467\n",
            "Epoch 245/400\n",
            "5/5 [==============================] - 0s 4ms/step - loss: 0.6818 - accuracy: 0.6467\n",
            "Epoch 246/400\n",
            "5/5 [==============================] - 0s 3ms/step - loss: 0.6801 - accuracy: 0.6467\n",
            "Epoch 247/400\n",
            "5/5 [==============================] - 0s 3ms/step - loss: 0.6784 - accuracy: 0.6467\n",
            "Epoch 248/400\n",
            "5/5 [==============================] - 0s 3ms/step - loss: 0.6768 - accuracy: 0.6467\n",
            "Epoch 249/400\n",
            "5/5 [==============================] - 0s 3ms/step - loss: 0.6752 - accuracy: 0.6467\n",
            "Epoch 250/400\n",
            "5/5 [==============================] - 0s 3ms/step - loss: 0.6735 - accuracy: 0.6467\n",
            "Epoch 251/400\n",
            "5/5 [==============================] - 0s 6ms/step - loss: 0.6719 - accuracy: 0.6467\n",
            "Epoch 252/400\n",
            "5/5 [==============================] - 0s 3ms/step - loss: 0.6704 - accuracy: 0.6467\n",
            "Epoch 253/400\n",
            "5/5 [==============================] - 0s 3ms/step - loss: 0.6688 - accuracy: 0.6467\n",
            "Epoch 254/400\n",
            "5/5 [==============================] - 0s 3ms/step - loss: 0.6672 - accuracy: 0.6467\n",
            "Epoch 255/400\n",
            "5/5 [==============================] - 0s 4ms/step - loss: 0.6656 - accuracy: 0.6467\n",
            "Epoch 256/400\n",
            "5/5 [==============================] - 0s 3ms/step - loss: 0.6641 - accuracy: 0.6467\n",
            "Epoch 257/400\n",
            "5/5 [==============================] - 0s 3ms/step - loss: 0.6626 - accuracy: 0.6333\n",
            "Epoch 258/400\n",
            "5/5 [==============================] - 0s 3ms/step - loss: 0.6612 - accuracy: 0.6267\n",
            "Epoch 259/400\n",
            "5/5 [==============================] - 0s 3ms/step - loss: 0.6597 - accuracy: 0.6333\n",
            "Epoch 260/400\n",
            "5/5 [==============================] - 0s 3ms/step - loss: 0.6582 - accuracy: 0.6267\n",
            "Epoch 261/400\n",
            "5/5 [==============================] - 0s 3ms/step - loss: 0.6568 - accuracy: 0.6333\n",
            "Epoch 262/400\n",
            "5/5 [==============================] - 0s 3ms/step - loss: 0.6553 - accuracy: 0.6267\n",
            "Epoch 263/400\n",
            "5/5 [==============================] - 0s 3ms/step - loss: 0.6539 - accuracy: 0.6267\n",
            "Epoch 264/400\n",
            "5/5 [==============================] - 0s 3ms/step - loss: 0.6525 - accuracy: 0.6267\n",
            "Epoch 265/400\n",
            "5/5 [==============================] - 0s 3ms/step - loss: 0.6511 - accuracy: 0.6267\n",
            "Epoch 266/400\n",
            "5/5 [==============================] - 0s 3ms/step - loss: 0.6498 - accuracy: 0.6267\n",
            "Epoch 267/400\n",
            "5/5 [==============================] - 0s 4ms/step - loss: 0.6484 - accuracy: 0.6267\n",
            "Epoch 268/400\n",
            "5/5 [==============================] - 0s 4ms/step - loss: 0.6471 - accuracy: 0.6267\n",
            "Epoch 269/400\n",
            "5/5 [==============================] - 0s 3ms/step - loss: 0.6458 - accuracy: 0.6267\n",
            "Epoch 270/400\n",
            "5/5 [==============================] - 0s 4ms/step - loss: 0.6445 - accuracy: 0.6267\n",
            "Epoch 271/400\n",
            "5/5 [==============================] - 0s 3ms/step - loss: 0.6431 - accuracy: 0.6267\n",
            "Epoch 272/400\n",
            "5/5 [==============================] - 0s 3ms/step - loss: 0.6419 - accuracy: 0.6267\n",
            "Epoch 273/400\n",
            "5/5 [==============================] - 0s 3ms/step - loss: 0.6406 - accuracy: 0.6267\n",
            "Epoch 274/400\n",
            "5/5 [==============================] - 0s 3ms/step - loss: 0.6393 - accuracy: 0.6333\n",
            "Epoch 275/400\n",
            "5/5 [==============================] - 0s 3ms/step - loss: 0.6381 - accuracy: 0.6400\n",
            "Epoch 276/400\n",
            "5/5 [==============================] - 0s 3ms/step - loss: 0.6368 - accuracy: 0.6467\n",
            "Epoch 277/400\n",
            "5/5 [==============================] - 0s 3ms/step - loss: 0.6356 - accuracy: 0.6467\n",
            "Epoch 278/400\n",
            "5/5 [==============================] - 0s 3ms/step - loss: 0.6344 - accuracy: 0.6467\n",
            "Epoch 279/400\n",
            "5/5 [==============================] - 0s 3ms/step - loss: 0.6332 - accuracy: 0.6400\n",
            "Epoch 280/400\n",
            "5/5 [==============================] - 0s 4ms/step - loss: 0.6321 - accuracy: 0.6400\n",
            "Epoch 281/400\n",
            "5/5 [==============================] - 0s 5ms/step - loss: 0.6309 - accuracy: 0.6267\n",
            "Epoch 282/400\n",
            "5/5 [==============================] - 0s 3ms/step - loss: 0.6297 - accuracy: 0.6267\n",
            "Epoch 283/400\n",
            "5/5 [==============================] - 0s 6ms/step - loss: 0.6286 - accuracy: 0.6267\n",
            "Epoch 284/400\n",
            "5/5 [==============================] - 0s 3ms/step - loss: 0.6274 - accuracy: 0.6400\n",
            "Epoch 285/400\n",
            "5/5 [==============================] - 0s 5ms/step - loss: 0.6263 - accuracy: 0.6400\n",
            "Epoch 286/400\n",
            "5/5 [==============================] - 0s 4ms/step - loss: 0.6252 - accuracy: 0.6467\n",
            "Epoch 287/400\n",
            "5/5 [==============================] - 0s 4ms/step - loss: 0.6241 - accuracy: 0.6467\n",
            "Epoch 288/400\n",
            "5/5 [==============================] - 0s 4ms/step - loss: 0.6230 - accuracy: 0.6400\n",
            "Epoch 289/400\n",
            "5/5 [==============================] - 0s 4ms/step - loss: 0.6219 - accuracy: 0.6400\n",
            "Epoch 290/400\n",
            "5/5 [==============================] - 0s 4ms/step - loss: 0.6209 - accuracy: 0.6267\n",
            "Epoch 291/400\n",
            "5/5 [==============================] - 0s 4ms/step - loss: 0.6198 - accuracy: 0.6267\n",
            "Epoch 292/400\n",
            "5/5 [==============================] - 0s 5ms/step - loss: 0.6188 - accuracy: 0.6267\n",
            "Epoch 293/400\n",
            "5/5 [==============================] - 0s 5ms/step - loss: 0.6177 - accuracy: 0.6267\n",
            "Epoch 294/400\n",
            "5/5 [==============================] - 0s 6ms/step - loss: 0.6167 - accuracy: 0.6267\n",
            "Epoch 295/400\n",
            "5/5 [==============================] - 0s 4ms/step - loss: 0.6157 - accuracy: 0.6267\n",
            "Epoch 296/400\n",
            "5/5 [==============================] - 0s 4ms/step - loss: 0.6148 - accuracy: 0.6267\n",
            "Epoch 297/400\n",
            "5/5 [==============================] - 0s 4ms/step - loss: 0.6137 - accuracy: 0.6267\n",
            "Epoch 298/400\n",
            "5/5 [==============================] - 0s 3ms/step - loss: 0.6127 - accuracy: 0.6267\n",
            "Epoch 299/400\n",
            "5/5 [==============================] - 0s 3ms/step - loss: 0.6117 - accuracy: 0.6200\n",
            "Epoch 300/400\n",
            "5/5 [==============================] - 0s 3ms/step - loss: 0.6108 - accuracy: 0.6200\n",
            "Epoch 301/400\n",
            "5/5 [==============================] - 0s 3ms/step - loss: 0.6098 - accuracy: 0.6200\n",
            "Epoch 302/400\n",
            "5/5 [==============================] - 0s 5ms/step - loss: 0.6089 - accuracy: 0.6200\n",
            "Epoch 303/400\n",
            "5/5 [==============================] - 0s 3ms/step - loss: 0.6079 - accuracy: 0.6200\n",
            "Epoch 304/400\n",
            "5/5 [==============================] - 0s 4ms/step - loss: 0.6070 - accuracy: 0.6267\n",
            "Epoch 305/400\n",
            "5/5 [==============================] - 0s 4ms/step - loss: 0.6061 - accuracy: 0.6200\n",
            "Epoch 306/400\n",
            "5/5 [==============================] - 0s 4ms/step - loss: 0.6052 - accuracy: 0.6200\n",
            "Epoch 307/400\n",
            "5/5 [==============================] - 0s 4ms/step - loss: 0.6042 - accuracy: 0.6200\n",
            "Epoch 308/400\n",
            "5/5 [==============================] - 0s 4ms/step - loss: 0.6034 - accuracy: 0.6200\n",
            "Epoch 309/400\n",
            "5/5 [==============================] - 0s 4ms/step - loss: 0.6025 - accuracy: 0.6200\n",
            "Epoch 310/400\n",
            "5/5 [==============================] - 0s 6ms/step - loss: 0.6016 - accuracy: 0.6200\n",
            "Epoch 311/400\n",
            "5/5 [==============================] - 0s 5ms/step - loss: 0.6007 - accuracy: 0.6200\n",
            "Epoch 312/400\n",
            "5/5 [==============================] - 0s 6ms/step - loss: 0.5998 - accuracy: 0.6200\n",
            "Epoch 313/400\n",
            "5/5 [==============================] - 0s 4ms/step - loss: 0.5990 - accuracy: 0.6200\n",
            "Epoch 314/400\n",
            "5/5 [==============================] - 0s 3ms/step - loss: 0.5981 - accuracy: 0.6200\n",
            "Epoch 315/400\n",
            "5/5 [==============================] - 0s 3ms/step - loss: 0.5973 - accuracy: 0.6200\n",
            "Epoch 316/400\n",
            "5/5 [==============================] - 0s 3ms/step - loss: 0.5965 - accuracy: 0.6200\n",
            "Epoch 317/400\n",
            "5/5 [==============================] - 0s 4ms/step - loss: 0.5956 - accuracy: 0.6267\n",
            "Epoch 318/400\n",
            "5/5 [==============================] - 0s 3ms/step - loss: 0.5948 - accuracy: 0.6267\n",
            "Epoch 319/400\n",
            "5/5 [==============================] - 0s 3ms/step - loss: 0.5940 - accuracy: 0.6267\n",
            "Epoch 320/400\n",
            "5/5 [==============================] - 0s 3ms/step - loss: 0.5932 - accuracy: 0.6267\n",
            "Epoch 321/400\n",
            "5/5 [==============================] - 0s 3ms/step - loss: 0.5924 - accuracy: 0.6267\n",
            "Epoch 322/400\n",
            "5/5 [==============================] - 0s 3ms/step - loss: 0.5916 - accuracy: 0.6267\n",
            "Epoch 323/400\n",
            "5/5 [==============================] - 0s 3ms/step - loss: 0.5908 - accuracy: 0.6267\n",
            "Epoch 324/400\n",
            "5/5 [==============================] - 0s 6ms/step - loss: 0.5901 - accuracy: 0.6267\n",
            "Epoch 325/400\n",
            "5/5 [==============================] - 0s 4ms/step - loss: 0.5893 - accuracy: 0.6200\n",
            "Epoch 326/400\n",
            "5/5 [==============================] - 0s 3ms/step - loss: 0.5885 - accuracy: 0.6267\n",
            "Epoch 327/400\n",
            "5/5 [==============================] - 0s 3ms/step - loss: 0.5878 - accuracy: 0.6267\n",
            "Epoch 328/400\n",
            "5/5 [==============================] - 0s 4ms/step - loss: 0.5870 - accuracy: 0.6267\n",
            "Epoch 329/400\n",
            "5/5 [==============================] - 0s 4ms/step - loss: 0.5863 - accuracy: 0.6267\n",
            "Epoch 330/400\n",
            "5/5 [==============================] - 0s 4ms/step - loss: 0.5855 - accuracy: 0.6267\n",
            "Epoch 331/400\n",
            "5/5 [==============================] - 0s 3ms/step - loss: 0.5848 - accuracy: 0.6267\n",
            "Epoch 332/400\n",
            "5/5 [==============================] - 0s 5ms/step - loss: 0.5841 - accuracy: 0.6267\n",
            "Epoch 333/400\n",
            "5/5 [==============================] - 0s 4ms/step - loss: 0.5834 - accuracy: 0.6267\n",
            "Epoch 334/400\n",
            "5/5 [==============================] - 0s 3ms/step - loss: 0.5826 - accuracy: 0.6267\n",
            "Epoch 335/400\n",
            "5/5 [==============================] - 0s 4ms/step - loss: 0.5819 - accuracy: 0.6267\n",
            "Epoch 336/400\n",
            "5/5 [==============================] - 0s 4ms/step - loss: 0.5812 - accuracy: 0.6267\n",
            "Epoch 337/400\n",
            "5/5 [==============================] - 0s 5ms/step - loss: 0.5805 - accuracy: 0.6267\n",
            "Epoch 338/400\n",
            "5/5 [==============================] - 0s 4ms/step - loss: 0.5798 - accuracy: 0.6267\n",
            "Epoch 339/400\n",
            "5/5 [==============================] - 0s 3ms/step - loss: 0.5791 - accuracy: 0.6267\n",
            "Epoch 340/400\n",
            "5/5 [==============================] - 0s 3ms/step - loss: 0.5785 - accuracy: 0.6267\n",
            "Epoch 341/400\n",
            "5/5 [==============================] - 0s 4ms/step - loss: 0.5778 - accuracy: 0.6267\n",
            "Epoch 342/400\n",
            "5/5 [==============================] - 0s 3ms/step - loss: 0.5771 - accuracy: 0.6267\n",
            "Epoch 343/400\n",
            "5/5 [==============================] - 0s 4ms/step - loss: 0.5765 - accuracy: 0.6267\n",
            "Epoch 344/400\n",
            "5/5 [==============================] - 0s 3ms/step - loss: 0.5758 - accuracy: 0.6267\n",
            "Epoch 345/400\n",
            "5/5 [==============================] - 0s 3ms/step - loss: 0.5752 - accuracy: 0.6267\n",
            "Epoch 346/400\n",
            "5/5 [==============================] - 0s 4ms/step - loss: 0.5745 - accuracy: 0.6267\n",
            "Epoch 347/400\n",
            "5/5 [==============================] - 0s 3ms/step - loss: 0.5739 - accuracy: 0.6267\n",
            "Epoch 348/400\n",
            "5/5 [==============================] - 0s 4ms/step - loss: 0.5732 - accuracy: 0.6267\n",
            "Epoch 349/400\n",
            "5/5 [==============================] - 0s 6ms/step - loss: 0.5726 - accuracy: 0.6267\n",
            "Epoch 350/400\n",
            "5/5 [==============================] - 0s 3ms/step - loss: 0.5720 - accuracy: 0.6333\n",
            "Epoch 351/400\n",
            "5/5 [==============================] - 0s 3ms/step - loss: 0.5714 - accuracy: 0.6333\n",
            "Epoch 352/400\n",
            "5/5 [==============================] - 0s 4ms/step - loss: 0.5708 - accuracy: 0.6400\n",
            "Epoch 353/400\n",
            "5/5 [==============================] - 0s 3ms/step - loss: 0.5702 - accuracy: 0.6667\n",
            "Epoch 354/400\n",
            "5/5 [==============================] - 0s 3ms/step - loss: 0.5696 - accuracy: 0.6667\n",
            "Epoch 355/400\n",
            "5/5 [==============================] - 0s 3ms/step - loss: 0.5690 - accuracy: 0.6667\n",
            "Epoch 356/400\n",
            "5/5 [==============================] - 0s 3ms/step - loss: 0.5684 - accuracy: 0.6667\n",
            "Epoch 357/400\n",
            "5/5 [==============================] - 0s 3ms/step - loss: 0.5678 - accuracy: 0.6600\n",
            "Epoch 358/400\n",
            "5/5 [==============================] - 0s 3ms/step - loss: 0.5672 - accuracy: 0.6333\n",
            "Epoch 359/400\n",
            "5/5 [==============================] - 0s 3ms/step - loss: 0.5666 - accuracy: 0.6333\n",
            "Epoch 360/400\n",
            "5/5 [==============================] - 0s 3ms/step - loss: 0.5661 - accuracy: 0.6333\n",
            "Epoch 361/400\n",
            "5/5 [==============================] - 0s 3ms/step - loss: 0.5655 - accuracy: 0.6333\n",
            "Epoch 362/400\n",
            "5/5 [==============================] - 0s 5ms/step - loss: 0.5650 - accuracy: 0.6267\n",
            "Epoch 363/400\n",
            "5/5 [==============================] - 0s 3ms/step - loss: 0.5644 - accuracy: 0.6267\n",
            "Epoch 364/400\n",
            "5/5 [==============================] - 0s 5ms/step - loss: 0.5638 - accuracy: 0.6400\n",
            "Epoch 365/400\n",
            "5/5 [==============================] - 0s 4ms/step - loss: 0.5633 - accuracy: 0.6467\n",
            "Epoch 366/400\n",
            "5/5 [==============================] - 0s 3ms/step - loss: 0.5628 - accuracy: 0.6667\n",
            "Epoch 367/400\n",
            "5/5 [==============================] - 0s 4ms/step - loss: 0.5622 - accuracy: 0.6600\n",
            "Epoch 368/400\n",
            "5/5 [==============================] - 0s 3ms/step - loss: 0.5617 - accuracy: 0.6400\n",
            "Epoch 369/400\n",
            "5/5 [==============================] - 0s 3ms/step - loss: 0.5611 - accuracy: 0.6333\n",
            "Epoch 370/400\n",
            "5/5 [==============================] - 0s 3ms/step - loss: 0.5606 - accuracy: 0.6267\n",
            "Epoch 371/400\n",
            "5/5 [==============================] - 0s 6ms/step - loss: 0.5601 - accuracy: 0.6267\n",
            "Epoch 372/400\n",
            "5/5 [==============================] - 0s 3ms/step - loss: 0.5596 - accuracy: 0.6267\n",
            "Epoch 373/400\n",
            "5/5 [==============================] - 0s 7ms/step - loss: 0.5590 - accuracy: 0.6267\n",
            "Epoch 374/400\n",
            "5/5 [==============================] - 0s 3ms/step - loss: 0.5585 - accuracy: 0.6267\n",
            "Epoch 375/400\n",
            "5/5 [==============================] - 0s 5ms/step - loss: 0.5580 - accuracy: 0.6267\n",
            "Epoch 376/400\n",
            "5/5 [==============================] - 0s 4ms/step - loss: 0.5575 - accuracy: 0.6267\n",
            "Epoch 377/400\n",
            "5/5 [==============================] - 0s 4ms/step - loss: 0.5570 - accuracy: 0.6267\n",
            "Epoch 378/400\n",
            "5/5 [==============================] - 0s 3ms/step - loss: 0.5565 - accuracy: 0.6267\n",
            "Epoch 379/400\n",
            "5/5 [==============================] - 0s 5ms/step - loss: 0.5560 - accuracy: 0.6267\n",
            "Epoch 380/400\n",
            "5/5 [==============================] - 0s 4ms/step - loss: 0.5555 - accuracy: 0.6267\n",
            "Epoch 381/400\n",
            "5/5 [==============================] - 0s 4ms/step - loss: 0.5550 - accuracy: 0.6267\n",
            "Epoch 382/400\n",
            "5/5 [==============================] - 0s 5ms/step - loss: 0.5546 - accuracy: 0.6267\n",
            "Epoch 383/400\n",
            "5/5 [==============================] - 0s 6ms/step - loss: 0.5541 - accuracy: 0.6267\n",
            "Epoch 384/400\n",
            "5/5 [==============================] - 0s 5ms/step - loss: 0.5536 - accuracy: 0.6267\n",
            "Epoch 385/400\n",
            "5/5 [==============================] - 0s 4ms/step - loss: 0.5532 - accuracy: 0.6267\n",
            "Epoch 386/400\n",
            "5/5 [==============================] - 0s 4ms/step - loss: 0.5527 - accuracy: 0.6267\n",
            "Epoch 387/400\n",
            "5/5 [==============================] - 0s 4ms/step - loss: 0.5522 - accuracy: 0.6267\n",
            "Epoch 388/400\n",
            "5/5 [==============================] - 0s 4ms/step - loss: 0.5517 - accuracy: 0.6267\n",
            "Epoch 389/400\n",
            "5/5 [==============================] - 0s 3ms/step - loss: 0.5513 - accuracy: 0.6267\n",
            "Epoch 390/400\n",
            "5/5 [==============================] - 0s 3ms/step - loss: 0.5509 - accuracy: 0.6267\n",
            "Epoch 391/400\n",
            "5/5 [==============================] - 0s 5ms/step - loss: 0.5504 - accuracy: 0.6267\n",
            "Epoch 392/400\n",
            "5/5 [==============================] - 0s 7ms/step - loss: 0.5499 - accuracy: 0.6267\n",
            "Epoch 393/400\n",
            "5/5 [==============================] - 0s 4ms/step - loss: 0.5495 - accuracy: 0.6267\n",
            "Epoch 394/400\n",
            "5/5 [==============================] - 0s 4ms/step - loss: 0.5491 - accuracy: 0.6400\n",
            "Epoch 395/400\n",
            "5/5 [==============================] - 0s 4ms/step - loss: 0.5486 - accuracy: 0.6667\n",
            "Epoch 396/400\n",
            "5/5 [==============================] - 0s 3ms/step - loss: 0.5482 - accuracy: 0.6667\n",
            "Epoch 397/400\n",
            "5/5 [==============================] - 0s 4ms/step - loss: 0.5477 - accuracy: 0.6667\n",
            "Epoch 398/400\n",
            "5/5 [==============================] - 0s 4ms/step - loss: 0.5473 - accuracy: 0.6667\n",
            "Epoch 399/400\n",
            "5/5 [==============================] - 0s 3ms/step - loss: 0.5469 - accuracy: 0.6667\n",
            "Epoch 400/400\n",
            "5/5 [==============================] - 0s 2ms/step - loss: 0.5465 - accuracy: 0.6667\n"
          ],
          "name": "stdout"
        },
        {
          "output_type": "execute_result",
          "data": {
            "text/plain": [
              "<tensorflow.python.keras.callbacks.History at 0x7fd0916ccd10>"
            ]
          },
          "metadata": {
            "tags": []
          },
          "execution_count": 19
        }
      ]
    },
    {
      "cell_type": "code",
      "metadata": {
        "id": "0nQRhE59ZgYD"
      },
      "source": [
        "model.save(\"final_iris_model.h5\")"
      ],
      "execution_count": 20,
      "outputs": []
    },
    {
      "cell_type": "code",
      "metadata": {
        "id": "ZkjgnN7tZuds"
      },
      "source": [
        "import joblib"
      ],
      "execution_count": 21,
      "outputs": []
    },
    {
      "cell_type": "code",
      "metadata": {
        "colab": {
          "base_uri": "https://localhost:8080/"
        },
        "id": "cHfontqIZv56",
        "outputId": "b3ba467e-3292-4447-ad73-4688d18f9081"
      },
      "source": [
        "joblib.dump(scaler,'iris_scaler.pkl')"
      ],
      "execution_count": 22,
      "outputs": [
        {
          "output_type": "execute_result",
          "data": {
            "text/plain": [
              "['iris_scaler.pkl']"
            ]
          },
          "metadata": {
            "tags": []
          },
          "execution_count": 22
        }
      ]
    },
    {
      "cell_type": "code",
      "metadata": {
        "id": "t2XeXumRZxvj"
      },
      "source": [
        "from tensorflow.keras.models import load_model"
      ],
      "execution_count": 23,
      "outputs": []
    },
    {
      "cell_type": "code",
      "metadata": {
        "id": "3FLKiAVTZzNF"
      },
      "source": [
        "flower_model = load_model(\"final_iris_model.h5\")\n",
        "flower_scaler = joblib.load(\"iris_scaler.pkl\") #scaler object"
      ],
      "execution_count": 27,
      "outputs": []
    },
    {
      "cell_type": "code",
      "metadata": {
        "colab": {
          "base_uri": "https://localhost:8080/",
          "height": 81
        },
        "id": "9YofGM82Z5Lp",
        "outputId": "0f2c0cab-697d-4a9f-d324-60416d62d64e"
      },
      "source": [
        "iris.head(1)"
      ],
      "execution_count": 28,
      "outputs": [
        {
          "output_type": "execute_result",
          "data": {
            "text/html": [
              "<div>\n",
              "<style scoped>\n",
              "    .dataframe tbody tr th:only-of-type {\n",
              "        vertical-align: middle;\n",
              "    }\n",
              "\n",
              "    .dataframe tbody tr th {\n",
              "        vertical-align: top;\n",
              "    }\n",
              "\n",
              "    .dataframe thead th {\n",
              "        text-align: right;\n",
              "    }\n",
              "</style>\n",
              "<table border=\"1\" class=\"dataframe\">\n",
              "  <thead>\n",
              "    <tr style=\"text-align: right;\">\n",
              "      <th></th>\n",
              "      <th>sepal_length</th>\n",
              "      <th>sepal_width</th>\n",
              "      <th>petal_length</th>\n",
              "      <th>petal_width</th>\n",
              "      <th>species</th>\n",
              "    </tr>\n",
              "  </thead>\n",
              "  <tbody>\n",
              "    <tr>\n",
              "      <th>0</th>\n",
              "      <td>5.1</td>\n",
              "      <td>3.5</td>\n",
              "      <td>1.4</td>\n",
              "      <td>0.2</td>\n",
              "      <td>setosa</td>\n",
              "    </tr>\n",
              "  </tbody>\n",
              "</table>\n",
              "</div>"
            ],
            "text/plain": [
              "   sepal_length  sepal_width  petal_length  petal_width species\n",
              "0           5.1          3.5           1.4          0.2  setosa"
            ]
          },
          "metadata": {
            "tags": []
          },
          "execution_count": 28
        }
      ]
    },
    {
      "cell_type": "code",
      "metadata": {
        "id": "7SWLUawbaDE1"
      },
      "source": [
        "flower_example = {'sepal_length':5.1,\n",
        "                 'sepal_width':3.5,\n",
        "                 'petal_length':1.4,\n",
        "                 'petal_width':0.2}"
      ],
      "execution_count": 29,
      "outputs": []
    },
    {
      "cell_type": "code",
      "metadata": {
        "colab": {
          "base_uri": "https://localhost:8080/"
        },
        "id": "5O_Wh2mBasXA",
        "outputId": "3e9bd208-e307-40a4-95b9-df245181f913"
      },
      "source": [
        "flower_example.keys()"
      ],
      "execution_count": 30,
      "outputs": [
        {
          "output_type": "execute_result",
          "data": {
            "text/plain": [
              "dict_keys(['sepal_length', 'sepal_width', 'petal_length', 'petal_width'])"
            ]
          },
          "metadata": {
            "tags": []
          },
          "execution_count": 30
        }
      ]
    },
    {
      "cell_type": "code",
      "metadata": {
        "colab": {
          "base_uri": "https://localhost:8080/"
        },
        "id": "CZ6I3hhxav0N",
        "outputId": "0e5b27e6-91af-4399-f62e-e924074988ff"
      },
      "source": [
        "encoder.classes_"
      ],
      "execution_count": 31,
      "outputs": [
        {
          "output_type": "execute_result",
          "data": {
            "text/plain": [
              "array(['setosa', 'versicolor', 'virginica'], dtype='<U10')"
            ]
          },
          "metadata": {
            "tags": []
          },
          "execution_count": 31
        }
      ]
    },
    {
      "cell_type": "code",
      "metadata": {
        "id": "jjLhXct-a5VL"
      },
      "source": [
        "def return_prediction(model,scaler,sample_json):\n",
        "     \n",
        "    s_len = sample_json['sepal_length']\n",
        "    s_wid = sample_json['sepal_width']\n",
        "    p_len = sample_json['petal_length']\n",
        "    p_wid = sample_json['petal_width']\n",
        "    \n",
        "    flower = [[s_len,s_wid,p_len,p_wid]]\n",
        "    \n",
        "    flower = scaler.transform(flower)\n",
        "    \n",
        "    classes = np.array(['setosa', 'versicolor', 'virginica'])\n",
        "    \n",
        "    class_ind = model.predict_classes(flower)\n",
        "    \n",
        "    return classes[class_ind][0]"
      ],
      "execution_count": 32,
      "outputs": []
    },
    {
      "cell_type": "code",
      "metadata": {
        "colab": {
          "base_uri": "https://localhost:8080/",
          "height": 92
        },
        "id": "AcxgSdhlb84a",
        "outputId": "55d3dd66-f355-4642-a090-f95189eba305"
      },
      "source": [
        "return_prediction(flower_model,flower_scaler,flower_example)"
      ],
      "execution_count": 33,
      "outputs": [
        {
          "output_type": "stream",
          "text": [
            "/usr/local/lib/python3.7/dist-packages/tensorflow/python/keras/engine/sequential.py:455: UserWarning: `model.predict_classes()` is deprecated and will be removed after 2021-01-01. Please use instead:* `np.argmax(model.predict(x), axis=-1)`,   if your model does multi-class classification   (e.g. if it uses a `softmax` last-layer activation).* `(model.predict(x) > 0.5).astype(\"int32\")`,   if your model does binary classification   (e.g. if it uses a `sigmoid` last-layer activation).\n",
            "  warnings.warn('`model.predict_classes()` is deprecated and '\n"
          ],
          "name": "stderr"
        },
        {
          "output_type": "execute_result",
          "data": {
            "application/vnd.google.colaboratory.intrinsic+json": {
              "type": "string"
            },
            "text/plain": [
              "'setosa'"
            ]
          },
          "metadata": {
            "tags": []
          },
          "execution_count": 33
        }
      ]
    },
    {
      "cell_type": "markdown",
      "metadata": {
        "id": "GYB72FKDgE4j"
      },
      "source": [
        "Code to deploy online"
      ]
    },
    {
      "cell_type": "code",
      "metadata": {
        "id": "5-JHz3rjgC-K"
      },
      "source": [
        "from tensorflow.keras.models import load_model\n",
        "import joblib\n",
        "import numpy as np\n",
        "\n",
        "flower_model = load_model(\"final_iris_model.h5\")\n",
        "flower_scaler = joblib.load(\"iris_scaler.pkl\")\n",
        "\n",
        "\n",
        "def return_prediction(model,scaler,sample_json):\n",
        "    \n",
        "    # For larger data features, you should probably write a for loop\n",
        "    # That builds out this array for you\n",
        "    \n",
        "    s_len = sample_json['sepal_length']\n",
        "    s_wid = sample_json['sepal_width']\n",
        "    p_len = sample_json['petal_length']\n",
        "    p_wid = sample_json['petal_width']\n",
        "    \n",
        "    flower = [[s_len,s_wid,p_len,p_wid]]\n",
        "    \n",
        "    flower = scaler.transform(flower)\n",
        "    \n",
        "    classes = np.array(['setosa', 'versicolor', 'virginica'])\n",
        "    \n",
        "    class_ind = model.predict_classes(flower)\n",
        "    \n",
        "    return classes[class_ind][0]"
      ],
      "execution_count": 37,
      "outputs": []
    },
    {
      "cell_type": "code",
      "metadata": {
        "id": "4jW40iK4gJkS"
      },
      "source": [
        "flower_example = {\n",
        "\"sepal_length\":5.1,\n",
        "\"sepal_width\":3.5,\n",
        "\"petal_length\":1.4,\n",
        "\"petal_width\":0.2\n",
        "}"
      ],
      "execution_count": 38,
      "outputs": []
    }
  ]
}