{
  "nbformat": 4,
  "nbformat_minor": 0,
  "metadata": {
    "colab": {
      "name": "GARCH.ipynb",
      "provenance": [],
      "collapsed_sections": []
    },
    "kernelspec": {
      "name": "python3",
      "display_name": "Python 3"
    },
    "language_info": {
      "name": "python"
    }
  },
  "cells": [
    {
      "cell_type": "code",
      "metadata": {
        "colab": {
          "base_uri": "https://localhost:8080/"
        },
        "id": "0b022M2bJ57Y",
        "outputId": "f9439ecf-0b5d-4eee-f1ec-e9f6dc3866d4"
      },
      "source": [
        "!pip install arch\n",
        "import pandas as pd\n",
        "import numpy as np\n",
        "import matplotlib.pyplot as plt\n",
        "import statsmodels.graphics.tsaplots as sgt\n",
        "import statsmodels.tsa.stattools as sts\n",
        "from statsmodels.tsa.arima_model import ARIMA\n",
        "from scipy.stats.distributions import chi2 \n",
        "from arch import arch_model\n",
        "from math import sqrt\n",
        "import seaborn as sns\n",
        "sns.set()"
      ],
      "execution_count": 1,
      "outputs": [
        {
          "output_type": "stream",
          "text": [
            "Collecting arch\n",
            "  Downloading arch-5.0.1-cp37-cp37m-manylinux_2_5_x86_64.manylinux1_x86_64.whl (875 kB)\n",
            "\u001b[?25l\r\u001b[K     |▍                               | 10 kB 25.4 MB/s eta 0:00:01\r\u001b[K     |▊                               | 20 kB 29.7 MB/s eta 0:00:01\r\u001b[K     |█▏                              | 30 kB 13.4 MB/s eta 0:00:01\r\u001b[K     |█▌                              | 40 kB 10.2 MB/s eta 0:00:01\r\u001b[K     |█▉                              | 51 kB 7.9 MB/s eta 0:00:01\r\u001b[K     |██▎                             | 61 kB 7.8 MB/s eta 0:00:01\r\u001b[K     |██▋                             | 71 kB 6.4 MB/s eta 0:00:01\r\u001b[K     |███                             | 81 kB 7.2 MB/s eta 0:00:01\r\u001b[K     |███▍                            | 92 kB 7.5 MB/s eta 0:00:01\r\u001b[K     |███▊                            | 102 kB 7.3 MB/s eta 0:00:01\r\u001b[K     |████▏                           | 112 kB 7.3 MB/s eta 0:00:01\r\u001b[K     |████▌                           | 122 kB 7.3 MB/s eta 0:00:01\r\u001b[K     |████▉                           | 133 kB 7.3 MB/s eta 0:00:01\r\u001b[K     |█████▎                          | 143 kB 7.3 MB/s eta 0:00:01\r\u001b[K     |█████▋                          | 153 kB 7.3 MB/s eta 0:00:01\r\u001b[K     |██████                          | 163 kB 7.3 MB/s eta 0:00:01\r\u001b[K     |██████▍                         | 174 kB 7.3 MB/s eta 0:00:01\r\u001b[K     |██████▊                         | 184 kB 7.3 MB/s eta 0:00:01\r\u001b[K     |███████▏                        | 194 kB 7.3 MB/s eta 0:00:01\r\u001b[K     |███████▌                        | 204 kB 7.3 MB/s eta 0:00:01\r\u001b[K     |███████▉                        | 215 kB 7.3 MB/s eta 0:00:01\r\u001b[K     |████████▎                       | 225 kB 7.3 MB/s eta 0:00:01\r\u001b[K     |████████▋                       | 235 kB 7.3 MB/s eta 0:00:01\r\u001b[K     |█████████                       | 245 kB 7.3 MB/s eta 0:00:01\r\u001b[K     |█████████▍                      | 256 kB 7.3 MB/s eta 0:00:01\r\u001b[K     |█████████▊                      | 266 kB 7.3 MB/s eta 0:00:01\r\u001b[K     |██████████                      | 276 kB 7.3 MB/s eta 0:00:01\r\u001b[K     |██████████▌                     | 286 kB 7.3 MB/s eta 0:00:01\r\u001b[K     |██████████▉                     | 296 kB 7.3 MB/s eta 0:00:01\r\u001b[K     |███████████▎                    | 307 kB 7.3 MB/s eta 0:00:01\r\u001b[K     |███████████▋                    | 317 kB 7.3 MB/s eta 0:00:01\r\u001b[K     |████████████                    | 327 kB 7.3 MB/s eta 0:00:01\r\u001b[K     |████████████▍                   | 337 kB 7.3 MB/s eta 0:00:01\r\u001b[K     |████████████▊                   | 348 kB 7.3 MB/s eta 0:00:01\r\u001b[K     |█████████████                   | 358 kB 7.3 MB/s eta 0:00:01\r\u001b[K     |█████████████▌                  | 368 kB 7.3 MB/s eta 0:00:01\r\u001b[K     |█████████████▉                  | 378 kB 7.3 MB/s eta 0:00:01\r\u001b[K     |██████████████▎                 | 389 kB 7.3 MB/s eta 0:00:01\r\u001b[K     |██████████████▋                 | 399 kB 7.3 MB/s eta 0:00:01\r\u001b[K     |███████████████                 | 409 kB 7.3 MB/s eta 0:00:01\r\u001b[K     |███████████████▍                | 419 kB 7.3 MB/s eta 0:00:01\r\u001b[K     |███████████████▊                | 430 kB 7.3 MB/s eta 0:00:01\r\u001b[K     |████████████████                | 440 kB 7.3 MB/s eta 0:00:01\r\u001b[K     |████████████████▌               | 450 kB 7.3 MB/s eta 0:00:01\r\u001b[K     |████████████████▉               | 460 kB 7.3 MB/s eta 0:00:01\r\u001b[K     |█████████████████▏              | 471 kB 7.3 MB/s eta 0:00:01\r\u001b[K     |█████████████████▋              | 481 kB 7.3 MB/s eta 0:00:01\r\u001b[K     |██████████████████              | 491 kB 7.3 MB/s eta 0:00:01\r\u001b[K     |██████████████████▍             | 501 kB 7.3 MB/s eta 0:00:01\r\u001b[K     |██████████████████▊             | 512 kB 7.3 MB/s eta 0:00:01\r\u001b[K     |███████████████████             | 522 kB 7.3 MB/s eta 0:00:01\r\u001b[K     |███████████████████▌            | 532 kB 7.3 MB/s eta 0:00:01\r\u001b[K     |███████████████████▉            | 542 kB 7.3 MB/s eta 0:00:01\r\u001b[K     |████████████████████▏           | 552 kB 7.3 MB/s eta 0:00:01\r\u001b[K     |████████████████████▋           | 563 kB 7.3 MB/s eta 0:00:01\r\u001b[K     |█████████████████████           | 573 kB 7.3 MB/s eta 0:00:01\r\u001b[K     |█████████████████████▍          | 583 kB 7.3 MB/s eta 0:00:01\r\u001b[K     |█████████████████████▊          | 593 kB 7.3 MB/s eta 0:00:01\r\u001b[K     |██████████████████████          | 604 kB 7.3 MB/s eta 0:00:01\r\u001b[K     |██████████████████████▌         | 614 kB 7.3 MB/s eta 0:00:01\r\u001b[K     |██████████████████████▉         | 624 kB 7.3 MB/s eta 0:00:01\r\u001b[K     |███████████████████████▏        | 634 kB 7.3 MB/s eta 0:00:01\r\u001b[K     |███████████████████████▋        | 645 kB 7.3 MB/s eta 0:00:01\r\u001b[K     |████████████████████████        | 655 kB 7.3 MB/s eta 0:00:01\r\u001b[K     |████████████████████████▎       | 665 kB 7.3 MB/s eta 0:00:01\r\u001b[K     |████████████████████████▊       | 675 kB 7.3 MB/s eta 0:00:01\r\u001b[K     |█████████████████████████       | 686 kB 7.3 MB/s eta 0:00:01\r\u001b[K     |█████████████████████████▌      | 696 kB 7.3 MB/s eta 0:00:01\r\u001b[K     |█████████████████████████▉      | 706 kB 7.3 MB/s eta 0:00:01\r\u001b[K     |██████████████████████████▏     | 716 kB 7.3 MB/s eta 0:00:01\r\u001b[K     |██████████████████████████▋     | 727 kB 7.3 MB/s eta 0:00:01\r\u001b[K     |███████████████████████████     | 737 kB 7.3 MB/s eta 0:00:01\r\u001b[K     |███████████████████████████▎    | 747 kB 7.3 MB/s eta 0:00:01\r\u001b[K     |███████████████████████████▊    | 757 kB 7.3 MB/s eta 0:00:01\r\u001b[K     |████████████████████████████    | 768 kB 7.3 MB/s eta 0:00:01\r\u001b[K     |████████████████████████████▌   | 778 kB 7.3 MB/s eta 0:00:01\r\u001b[K     |████████████████████████████▉   | 788 kB 7.3 MB/s eta 0:00:01\r\u001b[K     |█████████████████████████████▏  | 798 kB 7.3 MB/s eta 0:00:01\r\u001b[K     |█████████████████████████████▋  | 808 kB 7.3 MB/s eta 0:00:01\r\u001b[K     |██████████████████████████████  | 819 kB 7.3 MB/s eta 0:00:01\r\u001b[K     |██████████████████████████████▎ | 829 kB 7.3 MB/s eta 0:00:01\r\u001b[K     |██████████████████████████████▊ | 839 kB 7.3 MB/s eta 0:00:01\r\u001b[K     |███████████████████████████████ | 849 kB 7.3 MB/s eta 0:00:01\r\u001b[K     |███████████████████████████████▌| 860 kB 7.3 MB/s eta 0:00:01\r\u001b[K     |███████████████████████████████▉| 870 kB 7.3 MB/s eta 0:00:01\r\u001b[K     |████████████████████████████████| 875 kB 7.3 MB/s \n",
            "\u001b[?25hRequirement already satisfied: scipy>=1.3 in /usr/local/lib/python3.7/dist-packages (from arch) (1.4.1)\n",
            "Collecting property-cached>=1.6.4\n",
            "  Downloading property_cached-1.6.4-py2.py3-none-any.whl (7.8 kB)\n",
            "Requirement already satisfied: numpy>=1.17 in /usr/local/lib/python3.7/dist-packages (from arch) (1.19.5)\n",
            "Requirement already satisfied: pandas>=1.0 in /usr/local/lib/python3.7/dist-packages (from arch) (1.1.5)\n",
            "Collecting statsmodels>=0.11\n",
            "  Downloading statsmodels-0.12.2-cp37-cp37m-manylinux1_x86_64.whl (9.5 MB)\n",
            "\u001b[K     |████████████████████████████████| 9.5 MB 31.7 MB/s \n",
            "\u001b[?25hRequirement already satisfied: pytz>=2017.2 in /usr/local/lib/python3.7/dist-packages (from pandas>=1.0->arch) (2018.9)\n",
            "Requirement already satisfied: python-dateutil>=2.7.3 in /usr/local/lib/python3.7/dist-packages (from pandas>=1.0->arch) (2.8.2)\n",
            "Requirement already satisfied: six>=1.5 in /usr/local/lib/python3.7/dist-packages (from python-dateutil>=2.7.3->pandas>=1.0->arch) (1.15.0)\n",
            "Requirement already satisfied: patsy>=0.5 in /usr/local/lib/python3.7/dist-packages (from statsmodels>=0.11->arch) (0.5.1)\n",
            "Installing collected packages: statsmodels, property-cached, arch\n",
            "  Attempting uninstall: statsmodels\n",
            "    Found existing installation: statsmodels 0.10.2\n",
            "    Uninstalling statsmodels-0.10.2:\n",
            "      Successfully uninstalled statsmodels-0.10.2\n",
            "Successfully installed arch-5.0.1 property-cached-1.6.4 statsmodels-0.12.2\n"
          ],
          "name": "stdout"
        }
      ]
    },
    {
      "cell_type": "code",
      "metadata": {
        "id": "HLY9M9h0J-gj"
      },
      "source": [
        "raw_csv_data = pd.read_csv(\"Index2018.csv\") \n",
        "df_comp=raw_csv_data.copy()\n",
        "df_comp.date = pd.to_datetime(df_comp.date, dayfirst = True)\n",
        "df_comp.set_index(\"date\", inplace=True)\n",
        "df_comp=df_comp.asfreq('b')\n",
        "df_comp=df_comp.fillna(method='ffill')"
      ],
      "execution_count": 2,
      "outputs": []
    },
    {
      "cell_type": "code",
      "metadata": {
        "id": "L3GlY4I2J_yN"
      },
      "source": [
        "df_comp['market_value']=df_comp.ftse"
      ],
      "execution_count": 3,
      "outputs": []
    },
    {
      "cell_type": "code",
      "metadata": {
        "id": "IjjQKUArKBDr"
      },
      "source": [
        "del df_comp['spx']\n",
        "del df_comp['dax']\n",
        "del df_comp['ftse']\n",
        "del df_comp['nikkei']\n",
        "size = int(len(df_comp)*0.8)\n",
        "df, df_test = df_comp.iloc[:size], df_comp.iloc[size:]"
      ],
      "execution_count": 4,
      "outputs": []
    },
    {
      "cell_type": "code",
      "metadata": {
        "id": "KtQRtTVXKEh1"
      },
      "source": [
        "def LLR_test(mod_1, mod_2, DF = 1):\n",
        "    L1 = mod_1.fit(start_ar_lags = 11).llf\n",
        "    L2 = mod_2.fit(start_ar_lags = 11).llf\n",
        "    LR = (2*(L2-L1))    \n",
        "    p = chi2.sf(LR, DF).round(3)\n",
        "    return p"
      ],
      "execution_count": 5,
      "outputs": []
    },
    {
      "cell_type": "code",
      "metadata": {
        "colab": {
          "base_uri": "https://localhost:8080/"
        },
        "id": "7JSM9rOEKGOd",
        "outputId": "5204c72c-8fc0-40cb-fe54-043d6cacd41c"
      },
      "source": [
        "df['returns'] = df.market_value.pct_change(1)*100"
      ],
      "execution_count": 6,
      "outputs": [
        {
          "output_type": "stream",
          "text": [
            "/usr/local/lib/python3.7/dist-packages/ipykernel_launcher.py:1: SettingWithCopyWarning: \n",
            "A value is trying to be set on a copy of a slice from a DataFrame.\n",
            "Try using .loc[row_indexer,col_indexer] = value instead\n",
            "\n",
            "See the caveats in the documentation: https://pandas.pydata.org/pandas-docs/stable/user_guide/indexing.html#returning-a-view-versus-a-copy\n",
            "  \"\"\"Entry point for launching an IPython kernel.\n"
          ],
          "name": "stderr"
        }
      ]
    },
    {
      "cell_type": "code",
      "metadata": {
        "colab": {
          "base_uri": "https://localhost:8080/",
          "height": 554
        },
        "id": "4DsmyOMkKI-b",
        "outputId": "78fd31f9-08d5-4813-e579-acbe9e1e8ba2"
      },
      "source": [
        "model_garch_1_1 = arch_model(df.returns[1:], mean = \"Constant\", vol = \"GARCH\", p = 1, q = 1)\n",
        "results_garch_1_1 = model_garch_1_1.fit(update_freq = 5)\n",
        "results_garch_1_1.summary()"
      ],
      "execution_count": 7,
      "outputs": [
        {
          "output_type": "stream",
          "text": [
            "Iteration:      5,   Func. Count:     39,   Neg. LLF: 6972.734771540647\n",
            "Iteration:     10,   Func. Count:     73,   Neg. LLF: 6970.0880469732965\n",
            "Optimization terminated successfully.    (Exit mode 0)\n",
            "            Current function value: 6970.058366189882\n",
            "            Iterations: 13\n",
            "            Function evaluations: 91\n",
            "            Gradient evaluations: 13\n"
          ],
          "name": "stdout"
        },
        {
          "output_type": "execute_result",
          "data": {
            "text/html": [
              "<table class=\"simpletable\">\n",
              "<caption>Constant Mean - GARCH Model Results</caption>\n",
              "<tr>\n",
              "  <th>Dep. Variable:</th>       <td>returns</td>      <th>  R-squared:         </th>  <td>   0.000</td> \n",
              "</tr>\n",
              "<tr>\n",
              "  <th>Mean Model:</th>       <td>Constant Mean</td>   <th>  Adj. R-squared:    </th>  <td>   0.000</td> \n",
              "</tr>\n",
              "<tr>\n",
              "  <th>Vol Model:</th>            <td>GARCH</td>       <th>  Log-Likelihood:    </th> <td>  -6970.06</td>\n",
              "</tr>\n",
              "<tr>\n",
              "  <th>Distribution:</th>        <td>Normal</td>       <th>  AIC:               </th> <td>   13948.1</td>\n",
              "</tr>\n",
              "<tr>\n",
              "  <th>Method:</th>        <td>Maximum Likelihood</td> <th>  BIC:               </th> <td>   13974.2</td>\n",
              "</tr>\n",
              "<tr>\n",
              "  <th></th>                        <td></td>          <th>  No. Observations:  </th>    <td>5020</td>   \n",
              "</tr>\n",
              "<tr>\n",
              "  <th>Date:</th>           <td>Sun, Aug 15 2021</td>  <th>  Df Residuals:      </th>    <td>5019</td>   \n",
              "</tr>\n",
              "<tr>\n",
              "  <th>Time:</th>               <td>14:18:25</td>      <th>  Df Model:          </th>      <td>1</td>    \n",
              "</tr>\n",
              "</table>\n",
              "<table class=\"simpletable\">\n",
              "<caption>Mean Model</caption>\n",
              "<tr>\n",
              "   <td></td>     <th>coef</th>     <th>std err</th>      <th>t</th>       <th>P>|t|</th>     <th>95.0% Conf. Int.</th>   \n",
              "</tr>\n",
              "<tr>\n",
              "  <th>mu</th> <td>    0.0466</td> <td>1.183e-02</td> <td>    3.939</td> <td>8.187e-05</td> <td>[2.342e-02,6.981e-02]</td>\n",
              "</tr>\n",
              "</table>\n",
              "<table class=\"simpletable\">\n",
              "<caption>Volatility Model</caption>\n",
              "<tr>\n",
              "      <td></td>        <th>coef</th>     <th>std err</th>      <th>t</th>       <th>P>|t|</th>     <th>95.0% Conf. Int.</th>   \n",
              "</tr>\n",
              "<tr>\n",
              "  <th>omega</th>    <td>    0.0109</td> <td>3.004e-03</td> <td>    3.640</td> <td>2.724e-04</td> <td>[5.048e-03,1.682e-02]</td>\n",
              "</tr>\n",
              "<tr>\n",
              "  <th>alpha[1]</th> <td>    0.0835</td> <td>1.071e-02</td> <td>    7.794</td> <td>6.476e-15</td>  <td>[6.249e-02,  0.104]</td> \n",
              "</tr>\n",
              "<tr>\n",
              "  <th>beta[1]</th>  <td>    0.9089</td> <td>1.148e-02</td> <td>   79.168</td>   <td>0.000</td>     <td>[  0.886,  0.931]</td>  \n",
              "</tr>\n",
              "</table><br/><br/>Covariance estimator: robust"
            ],
            "text/plain": [
              "<class 'statsmodels.iolib.summary.Summary'>\n",
              "\"\"\"\n",
              "                     Constant Mean - GARCH Model Results                      \n",
              "==============================================================================\n",
              "Dep. Variable:                returns   R-squared:                       0.000\n",
              "Mean Model:             Constant Mean   Adj. R-squared:                  0.000\n",
              "Vol Model:                      GARCH   Log-Likelihood:               -6970.06\n",
              "Distribution:                  Normal   AIC:                           13948.1\n",
              "Method:            Maximum Likelihood   BIC:                           13974.2\n",
              "                                        No. Observations:                 5020\n",
              "Date:                Sun, Aug 15 2021   Df Residuals:                     5019\n",
              "Time:                        14:18:25   Df Model:                            1\n",
              "                                 Mean Model                                 \n",
              "============================================================================\n",
              "                 coef    std err          t      P>|t|      95.0% Conf. Int.\n",
              "----------------------------------------------------------------------------\n",
              "mu             0.0466  1.183e-02      3.939  8.187e-05 [2.342e-02,6.981e-02]\n",
              "                              Volatility Model                              \n",
              "============================================================================\n",
              "                 coef    std err          t      P>|t|      95.0% Conf. Int.\n",
              "----------------------------------------------------------------------------\n",
              "omega          0.0109  3.004e-03      3.640  2.724e-04 [5.048e-03,1.682e-02]\n",
              "alpha[1]       0.0835  1.071e-02      7.794  6.476e-15   [6.249e-02,  0.104]\n",
              "beta[1]        0.9089  1.148e-02     79.168      0.000     [  0.886,  0.931]\n",
              "============================================================================\n",
              "\n",
              "Covariance estimator: robust\n",
              "\"\"\""
            ]
          },
          "metadata": {
            "tags": []
          },
          "execution_count": 7
        }
      ]
    },
    {
      "cell_type": "markdown",
      "metadata": {
        "id": "U_tnd2fFMKpb"
      },
      "source": [
        "Higher-Lag GARCH Models"
      ]
    },
    {
      "cell_type": "code",
      "metadata": {
        "colab": {
          "base_uri": "https://localhost:8080/",
          "height": 575
        },
        "id": "-QFNNB2mMA5U",
        "outputId": "1fcbc1b4-3204-4c10-853e-0d4d2192ee78"
      },
      "source": [
        "#non significant results for calculating the volatility for returns of yesterday\n",
        "model_garch_1_1 = arch_model(df.returns[1:], mean = \"Constant\",  vol = \"GARCH\", p = 1, q = 2)\n",
        "results_garch_1_1 = model_garch_1_1.fit(update_freq = 5)\n",
        "results_garch_1_1.summary()"
      ],
      "execution_count": 12,
      "outputs": [
        {
          "output_type": "stream",
          "text": [
            "Iteration:      5,   Func. Count:     44,   Neg. LLF: 6978.5939427096255\n",
            "Iteration:     10,   Func. Count:     80,   Neg. LLF: 6970.063506071867\n",
            "Optimization terminated successfully.    (Exit mode 0)\n",
            "            Current function value: 6970.058366226932\n",
            "            Iterations: 12\n",
            "            Function evaluations: 95\n",
            "            Gradient evaluations: 12\n"
          ],
          "name": "stdout"
        },
        {
          "output_type": "execute_result",
          "data": {
            "text/html": [
              "<table class=\"simpletable\">\n",
              "<caption>Constant Mean - GARCH Model Results</caption>\n",
              "<tr>\n",
              "  <th>Dep. Variable:</th>       <td>returns</td>      <th>  R-squared:         </th>  <td>   0.000</td> \n",
              "</tr>\n",
              "<tr>\n",
              "  <th>Mean Model:</th>       <td>Constant Mean</td>   <th>  Adj. R-squared:    </th>  <td>   0.000</td> \n",
              "</tr>\n",
              "<tr>\n",
              "  <th>Vol Model:</th>            <td>GARCH</td>       <th>  Log-Likelihood:    </th> <td>  -6970.06</td>\n",
              "</tr>\n",
              "<tr>\n",
              "  <th>Distribution:</th>        <td>Normal</td>       <th>  AIC:               </th> <td>   13950.1</td>\n",
              "</tr>\n",
              "<tr>\n",
              "  <th>Method:</th>        <td>Maximum Likelihood</td> <th>  BIC:               </th> <td>   13982.7</td>\n",
              "</tr>\n",
              "<tr>\n",
              "  <th></th>                        <td></td>          <th>  No. Observations:  </th>    <td>5020</td>   \n",
              "</tr>\n",
              "<tr>\n",
              "  <th>Date:</th>           <td>Sun, Aug 15 2021</td>  <th>  Df Residuals:      </th>    <td>5019</td>   \n",
              "</tr>\n",
              "<tr>\n",
              "  <th>Time:</th>               <td>14:31:10</td>      <th>  Df Model:          </th>      <td>1</td>    \n",
              "</tr>\n",
              "</table>\n",
              "<table class=\"simpletable\">\n",
              "<caption>Mean Model</caption>\n",
              "<tr>\n",
              "   <td></td>     <th>coef</th>     <th>std err</th>      <th>t</th>       <th>P>|t|</th>     <th>95.0% Conf. Int.</th>   \n",
              "</tr>\n",
              "<tr>\n",
              "  <th>mu</th> <td>    0.0466</td> <td>1.184e-02</td> <td>    3.938</td> <td>8.219e-05</td> <td>[2.341e-02,6.982e-02]</td>\n",
              "</tr>\n",
              "</table>\n",
              "<table class=\"simpletable\">\n",
              "<caption>Volatility Model</caption>\n",
              "<tr>\n",
              "      <td></td>        <th>coef</th>     <th>std err</th>      <th>t</th>       <th>P>|t|</th>     <th>95.0% Conf. Int.</th>   \n",
              "</tr>\n",
              "<tr>\n",
              "  <th>omega</th>    <td>    0.0109</td> <td>2.908e-03</td> <td>    3.760</td> <td>1.696e-04</td> <td>[5.236e-03,1.663e-02]</td>\n",
              "</tr>\n",
              "<tr>\n",
              "  <th>alpha[1]</th> <td>    0.0835</td> <td>1.189e-02</td> <td>    7.019</td> <td>2.233e-12</td>  <td>[6.017e-02,  0.107]</td> \n",
              "</tr>\n",
              "<tr>\n",
              "  <th>beta[1]</th>  <td>    0.9089</td> <td>    0.188</td> <td>    4.845</td> <td>1.269e-06</td>   <td>[  0.541,  1.277]</td>  \n",
              "</tr>\n",
              "<tr>\n",
              "  <th>beta[2]</th>    <td>0.0000</td>   <td>    0.180</td>   <td>0.000</td>   <td>    1.000</td>   <td>[ -0.352,  0.352]</td>  \n",
              "</tr>\n",
              "</table><br/><br/>Covariance estimator: robust"
            ],
            "text/plain": [
              "<class 'statsmodels.iolib.summary.Summary'>\n",
              "\"\"\"\n",
              "                     Constant Mean - GARCH Model Results                      \n",
              "==============================================================================\n",
              "Dep. Variable:                returns   R-squared:                       0.000\n",
              "Mean Model:             Constant Mean   Adj. R-squared:                  0.000\n",
              "Vol Model:                      GARCH   Log-Likelihood:               -6970.06\n",
              "Distribution:                  Normal   AIC:                           13950.1\n",
              "Method:            Maximum Likelihood   BIC:                           13982.7\n",
              "                                        No. Observations:                 5020\n",
              "Date:                Sun, Aug 15 2021   Df Residuals:                     5019\n",
              "Time:                        14:31:10   Df Model:                            1\n",
              "                                 Mean Model                                 \n",
              "============================================================================\n",
              "                 coef    std err          t      P>|t|      95.0% Conf. Int.\n",
              "----------------------------------------------------------------------------\n",
              "mu             0.0466  1.184e-02      3.938  8.219e-05 [2.341e-02,6.982e-02]\n",
              "                              Volatility Model                              \n",
              "============================================================================\n",
              "                 coef    std err          t      P>|t|      95.0% Conf. Int.\n",
              "----------------------------------------------------------------------------\n",
              "omega          0.0109  2.908e-03      3.760  1.696e-04 [5.236e-03,1.663e-02]\n",
              "alpha[1]       0.0835  1.189e-02      7.019  2.233e-12   [6.017e-02,  0.107]\n",
              "beta[1]        0.9089      0.188      4.845  1.269e-06     [  0.541,  1.277]\n",
              "beta[2]        0.0000      0.180      0.000      1.000     [ -0.352,  0.352]\n",
              "============================================================================\n",
              "\n",
              "Covariance estimator: robust\n",
              "\"\"\""
            ]
          },
          "metadata": {
            "tags": []
          },
          "execution_count": 12
        }
      ]
    }
  ]
}