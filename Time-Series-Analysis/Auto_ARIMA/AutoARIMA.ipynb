{
  "nbformat": 4,
  "nbformat_minor": 0,
  "metadata": {
    "colab": {
      "name": "AutoARIMA.ipynb",
      "provenance": [],
      "collapsed_sections": []
    },
    "kernelspec": {
      "name": "python3",
      "display_name": "Python 3"
    },
    "language_info": {
      "name": "python"
    }
  },
  "cells": [
    {
      "cell_type": "code",
      "metadata": {
        "id": "4C8h5NZAC_ZN"
      },
      "source": [
        "import numpy as np\n",
        "import pandas as pd\n",
        "import scipy\n",
        "import statsmodels.api as sm\n",
        "import matplotlib.pyplot as plt\n",
        "import seaborn as sns\n",
        "import sklearn\n",
        "from statsmodels.tsa.arima_model import ARIMA\n",
        "from arch import arch_model\n",
        "import seaborn as sns\n",
        "import yfinance\n",
        "import warnings\n",
        "warnings.filterwarnings(\"ignore\")\n",
        "sns.set()"
      ],
      "execution_count": 7,
      "outputs": []
    },
    {
      "cell_type": "code",
      "metadata": {
        "colab": {
          "base_uri": "https://localhost:8080/"
        },
        "id": "lpp6XkEADGks",
        "outputId": "bcb930ec-d9e7-4937-9d98-17c00e74eefe"
      },
      "source": [
        "raw_data = yfinance.download (tickers = \"^GSPC ^FTSE ^N225 ^GDAXI\", start = \"1994-01-07\", end = \"2018-01-29\", \n",
        "                              interval = \"1d\", group_by = 'ticker', auto_adjust = True, treads = True)"
      ],
      "execution_count": 8,
      "outputs": [
        {
          "output_type": "stream",
          "text": [
            "[*********************100%***********************]  4 of 4 completed\n"
          ],
          "name": "stdout"
        }
      ]
    },
    {
      "cell_type": "code",
      "metadata": {
        "id": "RuR7QvuCDa_W"
      },
      "source": [
        "df_comp = raw_data.copy()"
      ],
      "execution_count": 9,
      "outputs": []
    },
    {
      "cell_type": "code",
      "metadata": {
        "id": "0yEpHUe_Dcgt"
      },
      "source": [
        "df_comp['spx'] = df_comp['^GSPC'].Close[:]\n",
        "df_comp['dax'] = df_comp['^GDAXI'].Close[:]\n",
        "df_comp['ftse'] = df_comp['^FTSE'].Close[:]\n",
        "df_comp['nikkei'] = df_comp['^N225'].Close[:]"
      ],
      "execution_count": 10,
      "outputs": []
    },
    {
      "cell_type": "code",
      "metadata": {
        "id": "nGCG7T9tDeIT"
      },
      "source": [
        "df_comp = df_comp.iloc[1:]\n",
        "del df_comp['^N225']\n",
        "del df_comp['^GSPC']\n",
        "del df_comp['^GDAXI']\n",
        "del df_comp['^FTSE']\n",
        "df_comp=df_comp.asfreq('b')\n",
        "df_comp=df_comp.fillna(method='ffill')"
      ],
      "execution_count": 11,
      "outputs": []
    },
    {
      "cell_type": "code",
      "metadata": {
        "id": "i5_v3t1jDfsT"
      },
      "source": [
        "df_comp['ret_spx'] = df_comp.spx.pct_change(1)*100\n",
        "df_comp['ret_ftse'] = df_comp.ftse.pct_change(1)*100\n",
        "df_comp['ret_dax'] = df_comp.dax.pct_change(1)*100\n",
        "df_comp['ret_nikkei'] = df_comp.nikkei.pct_change(1)*100"
      ],
      "execution_count": 12,
      "outputs": []
    },
    {
      "cell_type": "code",
      "metadata": {
        "id": "iGE0PWQuDhLE"
      },
      "source": [
        "size = int(len(df_comp)*0.8)\n",
        "df, df_test = df_comp.iloc[:size], df_comp.iloc[size:]"
      ],
      "execution_count": 13,
      "outputs": []
    },
    {
      "cell_type": "markdown",
      "metadata": {
        "id": "OO4BzYCzDlaZ"
      },
      "source": [
        "The auto ARIMA model"
      ]
    },
    {
      "cell_type": "code",
      "metadata": {
        "id": "8eE_JdY6Dnh9"
      },
      "source": [
        "from pmdarima.arima import auto_arima"
      ],
      "execution_count": 18,
      "outputs": []
    },
    {
      "cell_type": "code",
      "metadata": {
        "id": "SDG2V6D7EKSg"
      },
      "source": [
        "model_auto = auto_arima(df_comp.ret_ftse[1:], exogenous = df_comp[['ret_spx', 'ret_dax', 'ret_nikkei']][1:], m = 5,\n",
        "                       max_order = None, max_p = 7, max_q = 7, max_d = 2, max_P = 4, max_Q = 4, max_D = 2,\n",
        "                       maxiter = 50, alpha = 0.05, n_jobs = -1, trend = 'ct', information_criterion = 'oob',\n",
        "                       out_of_sample = int(len(df_comp)*0.2))\n",
        "\n",
        "\n",
        "# !!! Important Note: In pdmarima v1.5.2, out_of_sample_size is replaced with out_of_sample, so make sure to use the latter!\n",
        "\n",
        "\n",
        "# exogenous -> outside factors (e.g other time series)\n",
        "# m -> seasonal cycle length\n",
        "# max_order -> maximum amount of variables to be used in the regression (p + q)\n",
        "# max_p -> maximum AR components\n",
        "# max_q -> maximum MA components\n",
        "# max_d -> maximum Integrations\n",
        "# maxiter -> maximum iterations we're giving the model to converge the coefficients (becomes harder as the order increases)\n",
        "# alpha -> level of significance, default is 5%, which we should be using most of the time\n",
        "# n_jobs -> how many models to fit at a time (-1 indicates \"as many as possible\")\n",
        "# trend -> \"ct\" usually\n",
        "# information_criterion -> 'aic', 'aicc', 'bic', 'hqic', 'oob' \n",
        "#        (Akaike Information Criterion, Corrected Akaike Information Criterion,\n",
        "#        Bayesian Information Criterion, Hannan-Quinn Information Criterion, or\n",
        "#        \"out of bag\"--for validation scoring--respectively)\n",
        "# out_of_smaple -> validates the model selection (pass the entire dataset, and set 20% to be the out_of_sample_size)"
      ],
      "execution_count": null,
      "outputs": []
    },
    {
      "cell_type": "code",
      "metadata": {
        "id": "D7YZlTZ_Dqq9"
      },
      "source": [
        "model_auto = auto_arima(df.ret_ftse[1:])"
      ],
      "execution_count": 19,
      "outputs": []
    },
    {
      "cell_type": "code",
      "metadata": {
        "colab": {
          "base_uri": "https://localhost:8080/",
          "height": 537
        },
        "id": "hBmUnJuWENzk",
        "outputId": "acb78ab0-7731-4605-a859-98d4f75a4bf5"
      },
      "source": [
        "model_auto.summary()"
      ],
      "execution_count": 20,
      "outputs": [
        {
          "output_type": "execute_result",
          "data": {
            "text/html": [
              "<table class=\"simpletable\">\n",
              "<caption>Statespace Model Results</caption>\n",
              "<tr>\n",
              "  <th>Dep. Variable:</th>           <td>y</td>        <th>  No. Observations:  </th>   <td>5019</td>   \n",
              "</tr>\n",
              "<tr>\n",
              "  <th>Model:</th>           <td>SARIMAX(2, 0, 5)</td> <th>  Log Likelihood     </th> <td>-7885.535</td>\n",
              "</tr>\n",
              "<tr>\n",
              "  <th>Date:</th>            <td>Mon, 16 Aug 2021</td> <th>  AIC                </th> <td>15787.070</td>\n",
              "</tr>\n",
              "<tr>\n",
              "  <th>Time:</th>                <td>08:31:57</td>     <th>  BIC                </th> <td>15839.238</td>\n",
              "</tr>\n",
              "<tr>\n",
              "  <th>Sample:</th>                  <td>0</td>        <th>  HQIC               </th> <td>15805.351</td>\n",
              "</tr>\n",
              "<tr>\n",
              "  <th></th>                      <td> - 5019</td>     <th>                     </th>     <td> </td>    \n",
              "</tr>\n",
              "<tr>\n",
              "  <th>Covariance Type:</th>        <td>opg</td>       <th>                     </th>     <td> </td>    \n",
              "</tr>\n",
              "</table>\n",
              "<table class=\"simpletable\">\n",
              "<tr>\n",
              "     <td></td>       <th>coef</th>     <th>std err</th>      <th>z</th>      <th>P>|z|</th>  <th>[0.025</th>    <th>0.975]</th>  \n",
              "</tr>\n",
              "<tr>\n",
              "  <th>ar.L1</th>  <td>    0.1761</td> <td>    0.039</td> <td>    4.535</td> <td> 0.000</td> <td>    0.100</td> <td>    0.252</td>\n",
              "</tr>\n",
              "<tr>\n",
              "  <th>ar.L2</th>  <td>   -0.8130</td> <td>    0.035</td> <td>  -22.993</td> <td> 0.000</td> <td>   -0.882</td> <td>   -0.744</td>\n",
              "</tr>\n",
              "<tr>\n",
              "  <th>ma.L1</th>  <td>   -0.1996</td> <td>    0.038</td> <td>   -5.225</td> <td> 0.000</td> <td>   -0.274</td> <td>   -0.125</td>\n",
              "</tr>\n",
              "<tr>\n",
              "  <th>ma.L2</th>  <td>    0.7659</td> <td>    0.037</td> <td>   20.461</td> <td> 0.000</td> <td>    0.693</td> <td>    0.839</td>\n",
              "</tr>\n",
              "<tr>\n",
              "  <th>ma.L3</th>  <td>   -0.0947</td> <td>    0.011</td> <td>   -8.399</td> <td> 0.000</td> <td>   -0.117</td> <td>   -0.073</td>\n",
              "</tr>\n",
              "<tr>\n",
              "  <th>ma.L4</th>  <td>    0.0115</td> <td>    0.009</td> <td>    1.266</td> <td> 0.205</td> <td>   -0.006</td> <td>    0.029</td>\n",
              "</tr>\n",
              "<tr>\n",
              "  <th>ma.L5</th>  <td>   -0.1108</td> <td>    0.008</td> <td>  -13.112</td> <td> 0.000</td> <td>   -0.127</td> <td>   -0.094</td>\n",
              "</tr>\n",
              "<tr>\n",
              "  <th>sigma2</th> <td>    1.3558</td> <td>    0.014</td> <td>   94.484</td> <td> 0.000</td> <td>    1.328</td> <td>    1.384</td>\n",
              "</tr>\n",
              "</table>\n",
              "<table class=\"simpletable\">\n",
              "<tr>\n",
              "  <th>Ljung-Box (Q):</th>          <td>69.69</td> <th>  Jarque-Bera (JB):  </th> <td>6576.07</td>\n",
              "</tr>\n",
              "<tr>\n",
              "  <th>Prob(Q):</th>                <td>0.00</td>  <th>  Prob(JB):          </th>  <td>0.00</td>  \n",
              "</tr>\n",
              "<tr>\n",
              "  <th>Heteroskedasticity (H):</th> <td>1.99</td>  <th>  Skew:              </th>  <td>-0.18</td> \n",
              "</tr>\n",
              "<tr>\n",
              "  <th>Prob(H) (two-sided):</th>    <td>0.00</td>  <th>  Kurtosis:          </th>  <td>8.60</td>  \n",
              "</tr>\n",
              "</table><br/><br/>Warnings:<br/>[1] Covariance matrix calculated using the outer product of gradients (complex-step)."
            ],
            "text/plain": [
              "<class 'statsmodels.iolib.summary.Summary'>\n",
              "\"\"\"\n",
              "                           Statespace Model Results                           \n",
              "==============================================================================\n",
              "Dep. Variable:                      y   No. Observations:                 5019\n",
              "Model:               SARIMAX(2, 0, 5)   Log Likelihood               -7885.535\n",
              "Date:                Mon, 16 Aug 2021   AIC                          15787.070\n",
              "Time:                        08:31:57   BIC                          15839.238\n",
              "Sample:                             0   HQIC                         15805.351\n",
              "                               - 5019                                         \n",
              "Covariance Type:                  opg                                         \n",
              "==============================================================================\n",
              "                 coef    std err          z      P>|z|      [0.025      0.975]\n",
              "------------------------------------------------------------------------------\n",
              "ar.L1          0.1761      0.039      4.535      0.000       0.100       0.252\n",
              "ar.L2         -0.8130      0.035    -22.993      0.000      -0.882      -0.744\n",
              "ma.L1         -0.1996      0.038     -5.225      0.000      -0.274      -0.125\n",
              "ma.L2          0.7659      0.037     20.461      0.000       0.693       0.839\n",
              "ma.L3         -0.0947      0.011     -8.399      0.000      -0.117      -0.073\n",
              "ma.L4          0.0115      0.009      1.266      0.205      -0.006       0.029\n",
              "ma.L5         -0.1108      0.008    -13.112      0.000      -0.127      -0.094\n",
              "sigma2         1.3558      0.014     94.484      0.000       1.328       1.384\n",
              "===================================================================================\n",
              "Ljung-Box (Q):                       69.69   Jarque-Bera (JB):              6576.07\n",
              "Prob(Q):                              0.00   Prob(JB):                         0.00\n",
              "Heteroskedasticity (H):               1.99   Skew:                            -0.18\n",
              "Prob(H) (two-sided):                  0.00   Kurtosis:                         8.60\n",
              "===================================================================================\n",
              "\n",
              "Warnings:\n",
              "[1] Covariance matrix calculated using the outer product of gradients (complex-step).\n",
              "\"\"\""
            ]
          },
          "metadata": {
            "tags": []
          },
          "execution_count": 20
        }
      ]
    }
  ]
}