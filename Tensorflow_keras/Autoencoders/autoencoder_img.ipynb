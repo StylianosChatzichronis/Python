{
  "nbformat": 4,
  "nbformat_minor": 0,
  "metadata": {
    "colab": {
      "name": "autoencoder_img.ipynb",
      "provenance": []
    },
    "kernelspec": {
      "name": "python3",
      "display_name": "Python 3"
    },
    "language_info": {
      "name": "python"
    },
    "accelerator": "GPU"
  },
  "cells": [
    {
      "cell_type": "markdown",
      "metadata": {
        "id": "eVd1BIFdesrA"
      },
      "source": [
        "Autoencoder for dimensionality reduction"
      ]
    },
    {
      "cell_type": "code",
      "metadata": {
        "id": "LSflSeH3FmWj"
      },
      "source": [
        "import pandas as pd\n",
        "import numpy as np\n",
        "import matplotlib.pyplot as plt\n",
        "from tensorflow.keras.datasets import mnist"
      ],
      "execution_count": 1,
      "outputs": []
    },
    {
      "cell_type": "code",
      "metadata": {
        "id": "59QekPfZHkQ9"
      },
      "source": [
        "(X_train, y_train), (X_test, y_test) = mnist.load_data()\n"
      ],
      "execution_count": 2,
      "outputs": []
    },
    {
      "cell_type": "code",
      "metadata": {
        "id": "Z0yJxcJXIPhk"
      },
      "source": [
        "X_train = X_train/255\n",
        "X_test = X_test/255"
      ],
      "execution_count": 3,
      "outputs": []
    },
    {
      "cell_type": "code",
      "metadata": {
        "id": "6Le1sPPgIWxF"
      },
      "source": [
        "from tensorflow.keras.models import Sequential\n",
        "from tensorflow.keras.layers import Dense,Flatten,Reshape\n",
        "from tensorflow.keras.optimizers import SGD"
      ],
      "execution_count": 4,
      "outputs": []
    },
    {
      "cell_type": "code",
      "metadata": {
        "id": "8hGenDlmIqSp"
      },
      "source": [
        "#stacked autoencoder\n",
        "\n",
        "encoder = Sequential()\n",
        "encoder.add(Flatten(input_shape=[28,28]))\n",
        "encoder.add(Dense(400,activation='relu'))\n",
        "encoder.add(Dense(200,activation='relu'))\n",
        "encoder.add(Dense(100,activation='relu'))\n",
        "encoder.add(Dense(50,activation='relu'))\n",
        "encoder.add(Dense(25,activation='relu'))"
      ],
      "execution_count": 5,
      "outputs": []
    },
    {
      "cell_type": "code",
      "metadata": {
        "id": "J3SrYBzQJh1T"
      },
      "source": [
        "decoder = Sequential()\n",
        "decoder.add(Dense(50,input_shape=[25],activation='relu'))\n",
        "decoder.add(Dense(100,activation='relu'))\n",
        "decoder.add(Dense(200,activation='relu'))\n",
        "decoder.add(Dense(400,activation='relu'))\n",
        "decoder.add(Dense(784,activation='sigmoid'))\n",
        "decoder.add(Reshape([28,28]))"
      ],
      "execution_count": 6,
      "outputs": []
    },
    {
      "cell_type": "code",
      "metadata": {
        "id": "9YEPEEJgK6Mj"
      },
      "source": [
        "autoencoder = Sequential([encoder,decoder])\n",
        "autoencoder.compile(loss='binary_crossentropy', \n",
        "                    optimizer=SGD(learning_rate=1.5),\n",
        "                    metrics=['accuracy'])"
      ],
      "execution_count": 7,
      "outputs": []
    },
    {
      "cell_type": "code",
      "metadata": {
        "colab": {
          "base_uri": "https://localhost:8080/"
        },
        "id": "8mPRCGHULoFc",
        "outputId": "23e764e5-0b51-4f14-f54a-ef7fa28acedb"
      },
      "source": [
        "val_data = np.concatenate((X_test, X_test), axis=1)\n",
        "autoencoder.fit(x=X_train, y=X_train, epochs=5,validation_data=(X_test,X_test))"
      ],
      "execution_count": 8,
      "outputs": [
        {
          "output_type": "stream",
          "text": [
            "Epoch 1/5\n",
            "1875/1875 [==============================] - 7s 3ms/step - loss: 0.2519 - accuracy: 0.0839 - val_loss: 0.2210 - val_accuracy: 0.1131\n",
            "Epoch 2/5\n",
            "1875/1875 [==============================] - 5s 3ms/step - loss: 0.1924 - accuracy: 0.1568 - val_loss: 0.1759 - val_accuracy: 0.1762\n",
            "Epoch 3/5\n",
            "1875/1875 [==============================] - 5s 3ms/step - loss: 0.1662 - accuracy: 0.1905 - val_loss: 0.1546 - val_accuracy: 0.2010\n",
            "Epoch 4/5\n",
            "1875/1875 [==============================] - 6s 3ms/step - loss: 0.1507 - accuracy: 0.2073 - val_loss: 0.1428 - val_accuracy: 0.2098\n",
            "Epoch 5/5\n",
            "1875/1875 [==============================] - 6s 3ms/step - loss: 0.1431 - accuracy: 0.2180 - val_loss: 0.1399 - val_accuracy: 0.2190\n"
          ],
          "name": "stdout"
        },
        {
          "output_type": "execute_result",
          "data": {
            "text/plain": [
              "<tensorflow.python.keras.callbacks.History at 0x7f4f1009e7d0>"
            ]
          },
          "metadata": {
            "tags": []
          },
          "execution_count": 8
        }
      ]
    },
    {
      "cell_type": "code",
      "metadata": {
        "colab": {
          "base_uri": "https://localhost:8080/",
          "height": 531
        },
        "id": "GfbHPokDZVUD",
        "outputId": "fe867e96-6b90-45e6-af01-c8cb9579f232"
      },
      "source": [
        "passed_images = autoencoder.predict(X_test[:19])\n",
        "n=18\n",
        "plt.imshow(X_test[n])\n",
        "plt.show()\n",
        "plt.imshow(passed_images[n])"
      ],
      "execution_count": 22,
      "outputs": [
        {
          "output_type": "display_data",
          "data": {
            "image/png": "[encoded data removed]",
            "text/plain": [
              "<Figure size 432x288 with 1 Axes>"
            ]
          },
          "metadata": {
            "tags": [],
            "needs_background": "light"
          }
        },
        {
          "output_type": "execute_result",
          "data": {
            "text/plain": [
              "<matplotlib.image.AxesImage at 0x7f4ece128590>"
            ]
          },
          "metadata": {
            "tags": []
          },
          "execution_count": 22
        },
        {
          "output_type": "display_data",
          "data": {
            "image/png": "[encoded data removed]",
            "text/plain": [
              "<Figure size 432x288 with 1 Axes>"
            ]
          },
          "metadata": {
            "tags": [],
            "needs_background": "light"
          }
        }
      ]
    },
    {
      "cell_type": "markdown",
      "metadata": {
        "id": "zTZyapF-eoLw"
      },
      "source": [
        "Section for autoencoder-noise removal"
      ]
    },
    {
      "cell_type": "code",
      "metadata": {
        "id": "zsaecvYGenU6"
      },
      "source": [
        "#add noise to the images\n",
        "from tensorflow.keras.layers import GaussianNoise"
      ],
      "execution_count": 24,
      "outputs": []
    },
    {
      "cell_type": "code",
      "metadata": {
        "id": "P-Zjnis5hULK"
      },
      "source": [
        "sample = GaussianNoise(0.2)\n",
        "noisy = sample(X_test[:10],training=True) "
      ],
      "execution_count": 25,
      "outputs": []
    },
    {
      "cell_type": "code",
      "metadata": {
        "colab": {
          "base_uri": "https://localhost:8080/",
          "height": 549
        },
        "id": "5kSITp9DhnyJ",
        "outputId": "5201c6f2-9b1b-49be-e019-c1aaea90aac6"
      },
      "source": [
        "n=0\n",
        "print('Original')\n",
        "plt.imshow(X_test[n])\n",
        "plt.show()\n",
        "print('Original image with noise')\n",
        "plt.imshow(noisy[n])\n",
        "plt.show()"
      ],
      "execution_count": 26,
      "outputs": [
        {
          "output_type": "stream",
          "text": [
            "Original\n"
          ],
          "name": "stdout"
        },
        {
          "output_type": "display_data",
          "data": {
            "image/png": "[encoded data removed]",
            "text/plain": [
              "<Figure size 432x288 with 1 Axes>"
            ]
          },
          "metadata": {
            "tags": [],
            "needs_background": "light"
          }
        },
        {
          "output_type": "stream",
          "text": [
            "Original image with noise\n"
          ],
          "name": "stdout"
        },
        {
          "output_type": "display_data",
          "data": {
            "image/png": "[encoded data removed]",
            "text/plain": [
              "<Figure size 432x288 with 1 Axes>"
            ]
          },
          "metadata": {
            "tags": [],
            "needs_background": "light"
          }
        }
      ]
    },
    {
      "cell_type": "code",
      "metadata": {
        "id": "ZonfnvoaiJWQ"
      },
      "source": [
        "import tensorflow as tf"
      ],
      "execution_count": null,
      "outputs": []
    },
    {
      "cell_type": "code",
      "metadata": {
        "id": "2T1dVjaQiRyX"
      },
      "source": [
        "\n",
        "encoder = Sequential()\n",
        "encoder.add(Flatten(input_shape=[28,28]))\n",
        "\n",
        "encoder.add(GaussianNoise(0.2))\n",
        "\n",
        "encoder.add(Dense(400,activation='relu'))\n",
        "encoder.add(Dense(200,activation='relu'))\n",
        "encoder.add(Dense(100,activation='relu'))\n",
        "encoder.add(Dense(50,activation='relu'))\n",
        "encoder.add(Dense(25,activation='relu'))"
      ],
      "execution_count": 27,
      "outputs": []
    },
    {
      "cell_type": "code",
      "metadata": {
        "id": "Ppv8O3N5imws"
      },
      "source": [
        "decoder = Sequential()\n",
        "decoder.add(Dense(50,input_shape=[25],activation='relu'))\n",
        "decoder.add(Dense(100,activation='relu'))\n",
        "decoder.add(Dense(200,activation='relu'))\n",
        "decoder.add(Dense(400,activation='relu'))\n",
        "decoder.add(Dense(784,activation='sigmoid'))\n",
        "decoder.add(Reshape([28,28]))"
      ],
      "execution_count": 28,
      "outputs": []
    },
    {
      "cell_type": "code",
      "metadata": {
        "id": "xwCD9RgAiqWV"
      },
      "source": [
        "noise_remover = Sequential([encoder,decoder])\n",
        "noise_remover.compile(loss='binary_crossentropy',\n",
        "                      optimizer='Adam',\n",
        "                      metrics=['accuracy'])"
      ],
      "execution_count": 29,
      "outputs": []
    },
    {
      "cell_type": "code",
      "metadata": {
        "colab": {
          "base_uri": "https://localhost:8080/"
        },
        "id": "Q8bCqkpVjBdw",
        "outputId": "00f21a82-3488-4adc-f3b6-f8552658b1ed"
      },
      "source": [
        "noise_remover.fit(X_train,X_train,epochs=8)"
      ],
      "execution_count": 30,
      "outputs": [
        {
          "output_type": "stream",
          "text": [
            "Epoch 1/8\n",
            "1875/1875 [==============================] - 6s 3ms/step - loss: 0.1804 - accuracy: 0.1697\n",
            "Epoch 2/8\n",
            "1875/1875 [==============================] - 6s 3ms/step - loss: 0.1329 - accuracy: 0.2292\n",
            "Epoch 3/8\n",
            "1875/1875 [==============================] - 6s 3ms/step - loss: 0.1219 - accuracy: 0.2444\n",
            "Epoch 4/8\n",
            "1875/1875 [==============================] - 6s 3ms/step - loss: 0.1162 - accuracy: 0.2538\n",
            "Epoch 5/8\n",
            "1875/1875 [==============================] - 6s 3ms/step - loss: 0.1125 - accuracy: 0.2603\n",
            "Epoch 6/8\n",
            "1875/1875 [==============================] - 6s 3ms/step - loss: 0.1100 - accuracy: 0.2653\n",
            "Epoch 7/8\n",
            "1875/1875 [==============================] - 5s 3ms/step - loss: 0.1080 - accuracy: 0.2688\n",
            "Epoch 8/8\n",
            "1875/1875 [==============================] - 6s 3ms/step - loss: 0.1064 - accuracy: 0.2725\n"
          ],
          "name": "stdout"
        },
        {
          "output_type": "execute_result",
          "data": {
            "text/plain": [
              "<tensorflow.python.keras.callbacks.History at 0x7f4eb8bb5c10>"
            ]
          },
          "metadata": {
            "tags": []
          },
          "execution_count": 30
        }
      ]
    },
    {
      "cell_type": "code",
      "metadata": {
        "id": "3hUsAeXMkHN4"
      },
      "source": [
        "ten_noisey_images = sample(X_test[0:10],training=True)\n",
        "denoised = noise_remover(ten_noisey_images[0:10])"
      ],
      "execution_count": 39,
      "outputs": []
    },
    {
      "cell_type": "code",
      "metadata": {
        "colab": {
          "base_uri": "https://localhost:8080/",
          "height": 816
        },
        "id": "f01kHDxNkI5X",
        "outputId": "915bc638-5e23-43fc-9a5f-b756a17751e4"
      },
      "source": [
        "n = 7\n",
        "print(\"The Original\")\n",
        "plt.imshow(X_test[n])\n",
        "plt.show()\n",
        "print(\"The Noisey Version\")\n",
        "plt.imshow(ten_noisey_images[n])\n",
        "plt.show()\n",
        "print(\"After going through denoiser\")\n",
        "plt.imshow(denoised[n])\n",
        "plt.show()"
      ],
      "execution_count": 40,
      "outputs": [
        {
          "output_type": "stream",
          "text": [
            "The Original\n"
          ],
          "name": "stdout"
        },
        {
          "output_type": "display_data",
          "data": {
            "image/png": "[encoded data removed]",
            "text/plain": [
              "<Figure size 432x288 with 1 Axes>"
            ]
          },
          "metadata": {
            "tags": [],
            "needs_background": "light"
          }
        },
        {
          "output_type": "stream",
          "text": [
            "The Noisey Version\n"
          ],
          "name": "stdout"
        },
        {
          "output_type": "display_data",
          "data": {
            "image/png": "[encoded data removed]",
            "text/plain": [
              "<Figure size 432x288 with 1 Axes>"
            ]
          },
          "metadata": {
            "tags": [],
            "needs_background": "light"
          }
        },
        {
          "output_type": "stream",
          "text": [
            "After going through denoiser\n"
          ],
          "name": "stdout"
        },
        {
          "output_type": "display_data",
          "data": {
            "image/png": "[encoded data removed]",
            "text/plain": [
              "<Figure size 432x288 with 1 Axes>"
            ]
          },
          "metadata": {
            "tags": [],
            "needs_background": "light"
          }
        }
      ]
    }
  ]
}